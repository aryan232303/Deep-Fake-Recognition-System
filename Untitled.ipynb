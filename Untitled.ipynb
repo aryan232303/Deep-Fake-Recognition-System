{
  "nbformat": 4,
  "nbformat_minor": 0,
  "metadata": {
    "colab": {
      "provenance": [],
      "toc_visible": true,
      "authorship_tag": "ABX9TyMmHvVM3xyZvmei2+WRXplU",
      "include_colab_link": true
    },
    "kernelspec": {
      "name": "python3",
      "display_name": "Python 3"
    },
    "language_info": {
      "name": "python"
    }
  },
  "cells": [
    {
      "cell_type": "markdown",
      "metadata": {
        "id": "view-in-github",
        "colab_type": "text"
      },
      "source": [
        "<a href=\"https://colab.research.google.com/github/aryan232303/Deep-Fake-Recognition-System/blob/main/Untitled.ipynb\" target=\"_parent\"><img src=\"https://colab.research.google.com/assets/colab-badge.svg\" alt=\"Open In Colab\"/></a>"
      ]
    },
    {
      "cell_type": "code",
      "execution_count": 27,
      "metadata": {
        "colab": {
          "base_uri": "https://localhost:8080/"
        },
        "id": "p5QP_9Dr5XS-",
        "outputId": "3c7f9023-265a-491b-9254-7635357e96cb"
      },
      "outputs": [
        {
          "output_type": "stream",
          "name": "stdout",
          "text": [
            "Requirement already satisfied: kaggle in /usr/local/lib/python3.11/dist-packages (1.7.4.2)\n",
            "Requirement already satisfied: kagglehub in /usr/local/lib/python3.11/dist-packages (0.3.10)\n",
            "Requirement already satisfied: bleach in /usr/local/lib/python3.11/dist-packages (from kaggle) (6.2.0)\n",
            "Requirement already satisfied: certifi>=14.05.14 in /usr/local/lib/python3.11/dist-packages (from kaggle) (2025.1.31)\n",
            "Requirement already satisfied: charset-normalizer in /usr/local/lib/python3.11/dist-packages (from kaggle) (3.4.1)\n",
            "Requirement already satisfied: idna in /usr/local/lib/python3.11/dist-packages (from kaggle) (3.10)\n",
            "Requirement already satisfied: protobuf in /usr/local/lib/python3.11/dist-packages (from kaggle) (5.29.3)\n",
            "Requirement already satisfied: python-dateutil>=2.5.3 in /usr/local/lib/python3.11/dist-packages (from kaggle) (2.8.2)\n",
            "Requirement already satisfied: python-slugify in /usr/local/lib/python3.11/dist-packages (from kaggle) (8.0.4)\n",
            "Requirement already satisfied: requests in /usr/local/lib/python3.11/dist-packages (from kaggle) (2.32.3)\n",
            "Requirement already satisfied: setuptools>=21.0.0 in /usr/local/lib/python3.11/dist-packages (from kaggle) (75.1.0)\n",
            "Requirement already satisfied: six>=1.10 in /usr/local/lib/python3.11/dist-packages (from kaggle) (1.17.0)\n",
            "Requirement already satisfied: text-unidecode in /usr/local/lib/python3.11/dist-packages (from kaggle) (1.3)\n",
            "Requirement already satisfied: tqdm in /usr/local/lib/python3.11/dist-packages (from kaggle) (4.67.1)\n",
            "Requirement already satisfied: urllib3>=1.15.1 in /usr/local/lib/python3.11/dist-packages (from kaggle) (2.3.0)\n",
            "Requirement already satisfied: webencodings in /usr/local/lib/python3.11/dist-packages (from kaggle) (0.5.1)\n",
            "Requirement already satisfied: packaging in /usr/local/lib/python3.11/dist-packages (from kagglehub) (24.2)\n",
            "Requirement already satisfied: pyyaml in /usr/local/lib/python3.11/dist-packages (from kagglehub) (6.0.2)\n"
          ]
        }
      ],
      "source": [
        "!pip install kaggle kagglehub\n",
        "\n"
      ]
    },
    {
      "cell_type": "code",
      "source": [
        "from google.colab import files\n",
        "files.upload()  # Upload kaggle.json when prompted\n"
      ],
      "metadata": {
        "colab": {
          "base_uri": "https://localhost:8080/",
          "height": 90
        },
        "id": "rAqh6Vmq7O4t",
        "outputId": "774942c6-f0f9-46d6-956a-aaf8ed5a6a29"
      },
      "execution_count": 28,
      "outputs": [
        {
          "output_type": "display_data",
          "data": {
            "text/plain": [
              "<IPython.core.display.HTML object>"
            ],
            "text/html": [
              "\n",
              "     <input type=\"file\" id=\"files-39f9830f-8fcf-427c-9c88-838f989e406d\" name=\"files[]\" multiple disabled\n",
              "        style=\"border:none\" />\n",
              "     <output id=\"result-39f9830f-8fcf-427c-9c88-838f989e406d\">\n",
              "      Upload widget is only available when the cell has been executed in the\n",
              "      current browser session. Please rerun this cell to enable.\n",
              "      </output>\n",
              "      <script>// Copyright 2017 Google LLC\n",
              "//\n",
              "// Licensed under the Apache License, Version 2.0 (the \"License\");\n",
              "// you may not use this file except in compliance with the License.\n",
              "// You may obtain a copy of the License at\n",
              "//\n",
              "//      http://www.apache.org/licenses/LICENSE-2.0\n",
              "//\n",
              "// Unless required by applicable law or agreed to in writing, software\n",
              "// distributed under the License is distributed on an \"AS IS\" BASIS,\n",
              "// WITHOUT WARRANTIES OR CONDITIONS OF ANY KIND, either express or implied.\n",
              "// See the License for the specific language governing permissions and\n",
              "// limitations under the License.\n",
              "\n",
              "/**\n",
              " * @fileoverview Helpers for google.colab Python module.\n",
              " */\n",
              "(function(scope) {\n",
              "function span(text, styleAttributes = {}) {\n",
              "  const element = document.createElement('span');\n",
              "  element.textContent = text;\n",
              "  for (const key of Object.keys(styleAttributes)) {\n",
              "    element.style[key] = styleAttributes[key];\n",
              "  }\n",
              "  return element;\n",
              "}\n",
              "\n",
              "// Max number of bytes which will be uploaded at a time.\n",
              "const MAX_PAYLOAD_SIZE = 100 * 1024;\n",
              "\n",
              "function _uploadFiles(inputId, outputId) {\n",
              "  const steps = uploadFilesStep(inputId, outputId);\n",
              "  const outputElement = document.getElementById(outputId);\n",
              "  // Cache steps on the outputElement to make it available for the next call\n",
              "  // to uploadFilesContinue from Python.\n",
              "  outputElement.steps = steps;\n",
              "\n",
              "  return _uploadFilesContinue(outputId);\n",
              "}\n",
              "\n",
              "// This is roughly an async generator (not supported in the browser yet),\n",
              "// where there are multiple asynchronous steps and the Python side is going\n",
              "// to poll for completion of each step.\n",
              "// This uses a Promise to block the python side on completion of each step,\n",
              "// then passes the result of the previous step as the input to the next step.\n",
              "function _uploadFilesContinue(outputId) {\n",
              "  const outputElement = document.getElementById(outputId);\n",
              "  const steps = outputElement.steps;\n",
              "\n",
              "  const next = steps.next(outputElement.lastPromiseValue);\n",
              "  return Promise.resolve(next.value.promise).then((value) => {\n",
              "    // Cache the last promise value to make it available to the next\n",
              "    // step of the generator.\n",
              "    outputElement.lastPromiseValue = value;\n",
              "    return next.value.response;\n",
              "  });\n",
              "}\n",
              "\n",
              "/**\n",
              " * Generator function which is called between each async step of the upload\n",
              " * process.\n",
              " * @param {string} inputId Element ID of the input file picker element.\n",
              " * @param {string} outputId Element ID of the output display.\n",
              " * @return {!Iterable<!Object>} Iterable of next steps.\n",
              " */\n",
              "function* uploadFilesStep(inputId, outputId) {\n",
              "  const inputElement = document.getElementById(inputId);\n",
              "  inputElement.disabled = false;\n",
              "\n",
              "  const outputElement = document.getElementById(outputId);\n",
              "  outputElement.innerHTML = '';\n",
              "\n",
              "  const pickedPromise = new Promise((resolve) => {\n",
              "    inputElement.addEventListener('change', (e) => {\n",
              "      resolve(e.target.files);\n",
              "    });\n",
              "  });\n",
              "\n",
              "  const cancel = document.createElement('button');\n",
              "  inputElement.parentElement.appendChild(cancel);\n",
              "  cancel.textContent = 'Cancel upload';\n",
              "  const cancelPromise = new Promise((resolve) => {\n",
              "    cancel.onclick = () => {\n",
              "      resolve(null);\n",
              "    };\n",
              "  });\n",
              "\n",
              "  // Wait for the user to pick the files.\n",
              "  const files = yield {\n",
              "    promise: Promise.race([pickedPromise, cancelPromise]),\n",
              "    response: {\n",
              "      action: 'starting',\n",
              "    }\n",
              "  };\n",
              "\n",
              "  cancel.remove();\n",
              "\n",
              "  // Disable the input element since further picks are not allowed.\n",
              "  inputElement.disabled = true;\n",
              "\n",
              "  if (!files) {\n",
              "    return {\n",
              "      response: {\n",
              "        action: 'complete',\n",
              "      }\n",
              "    };\n",
              "  }\n",
              "\n",
              "  for (const file of files) {\n",
              "    const li = document.createElement('li');\n",
              "    li.append(span(file.name, {fontWeight: 'bold'}));\n",
              "    li.append(span(\n",
              "        `(${file.type || 'n/a'}) - ${file.size} bytes, ` +\n",
              "        `last modified: ${\n",
              "            file.lastModifiedDate ? file.lastModifiedDate.toLocaleDateString() :\n",
              "                                    'n/a'} - `));\n",
              "    const percent = span('0% done');\n",
              "    li.appendChild(percent);\n",
              "\n",
              "    outputElement.appendChild(li);\n",
              "\n",
              "    const fileDataPromise = new Promise((resolve) => {\n",
              "      const reader = new FileReader();\n",
              "      reader.onload = (e) => {\n",
              "        resolve(e.target.result);\n",
              "      };\n",
              "      reader.readAsArrayBuffer(file);\n",
              "    });\n",
              "    // Wait for the data to be ready.\n",
              "    let fileData = yield {\n",
              "      promise: fileDataPromise,\n",
              "      response: {\n",
              "        action: 'continue',\n",
              "      }\n",
              "    };\n",
              "\n",
              "    // Use a chunked sending to avoid message size limits. See b/62115660.\n",
              "    let position = 0;\n",
              "    do {\n",
              "      const length = Math.min(fileData.byteLength - position, MAX_PAYLOAD_SIZE);\n",
              "      const chunk = new Uint8Array(fileData, position, length);\n",
              "      position += length;\n",
              "\n",
              "      const base64 = btoa(String.fromCharCode.apply(null, chunk));\n",
              "      yield {\n",
              "        response: {\n",
              "          action: 'append',\n",
              "          file: file.name,\n",
              "          data: base64,\n",
              "        },\n",
              "      };\n",
              "\n",
              "      let percentDone = fileData.byteLength === 0 ?\n",
              "          100 :\n",
              "          Math.round((position / fileData.byteLength) * 100);\n",
              "      percent.textContent = `${percentDone}% done`;\n",
              "\n",
              "    } while (position < fileData.byteLength);\n",
              "  }\n",
              "\n",
              "  // All done.\n",
              "  yield {\n",
              "    response: {\n",
              "      action: 'complete',\n",
              "    }\n",
              "  };\n",
              "}\n",
              "\n",
              "scope.google = scope.google || {};\n",
              "scope.google.colab = scope.google.colab || {};\n",
              "scope.google.colab._files = {\n",
              "  _uploadFiles,\n",
              "  _uploadFilesContinue,\n",
              "};\n",
              "})(self);\n",
              "</script> "
            ]
          },
          "metadata": {}
        },
        {
          "output_type": "stream",
          "name": "stdout",
          "text": [
            "Saving kaggle.json to kaggle (1).json\n"
          ]
        },
        {
          "output_type": "execute_result",
          "data": {
            "text/plain": [
              "{'kaggle (1).json': b'{\"username\":\"aryan23k\",\"key\":\"93d4d382525ea82135150055bb823783\"}'}"
            ]
          },
          "metadata": {},
          "execution_count": 28
        }
      ]
    },
    {
      "cell_type": "markdown",
      "source": [],
      "metadata": {
        "id": "6I5BRIjt7hru"
      }
    },
    {
      "cell_type": "code",
      "source": [
        "from google.colab import drive\n",
        "drive.mount('/content/drive')\n"
      ],
      "metadata": {
        "colab": {
          "base_uri": "https://localhost:8080/"
        },
        "id": "QL9MJ_kR9OA7",
        "outputId": "c03704ed-1532-41e4-c41f-311b757c2528"
      },
      "execution_count": 44,
      "outputs": [
        {
          "output_type": "stream",
          "name": "stdout",
          "text": [
            "Drive already mounted at /content/drive; to attempt to forcibly remount, call drive.mount(\"/content/drive\", force_remount=True).\n"
          ]
        }
      ]
    },
    {
      "cell_type": "code",
      "source": [
        "from google.colab import drive\n",
        "drive.mount('/content/drive')\n"
      ],
      "metadata": {
        "colab": {
          "base_uri": "https://localhost:8080/"
        },
        "id": "ZJ-bsPzhmCeY",
        "outputId": "4322a897-a9a6-4aaf-dda3-060bc591259c"
      },
      "execution_count": 45,
      "outputs": [
        {
          "output_type": "stream",
          "name": "stdout",
          "text": [
            "Drive already mounted at /content/drive; to attempt to forcibly remount, call drive.mount(\"/content/drive\", force_remount=True).\n"
          ]
        }
      ]
    },
    {
      "cell_type": "code",
      "source": [
        "!cp \"/content/drive/My Drive/archive.zip\" /content/\n"
      ],
      "metadata": {
        "id": "jPE9UC_wmOVc"
      },
      "execution_count": 32,
      "outputs": []
    },
    {
      "cell_type": "code",
      "source": [
        "!ls /content/dataset\n"
      ],
      "metadata": {
        "colab": {
          "base_uri": "https://localhost:8080/"
        },
        "id": "FMRUYbA2mTIN",
        "outputId": "80523560-b760-489c-90dd-488f9be6deca"
      },
      "execution_count": 33,
      "outputs": [
        {
          "output_type": "stream",
          "name": "stdout",
          "text": [
            "real_and_fake_face  real_and_fake_face_detection\n"
          ]
        }
      ]
    },
    {
      "cell_type": "code",
      "source": [
        "import zipfile\n",
        "import os\n",
        "\n",
        "dataset_path = \"/content/archive.zip\"\n",
        "extract_path = \"/content/dataset\"\n",
        "\n",
        "with zipfile.ZipFile(dataset_path, 'r') as zip_ref:\n",
        "    zip_ref.extractall(extract_path)\n",
        "\n",
        "print(\"Dataset extracted to:\", extract_path)\n"
      ],
      "metadata": {
        "colab": {
          "base_uri": "https://localhost:8080/"
        },
        "id": "ZIhqFrc8mY8n",
        "outputId": "e815e621-eaf5-4c2e-bef6-8869994c3143"
      },
      "execution_count": 34,
      "outputs": [
        {
          "output_type": "stream",
          "name": "stdout",
          "text": [
            "Dataset extracted to: /content/dataset\n"
          ]
        }
      ]
    },
    {
      "cell_type": "code",
      "source": [
        "!ls /content/dataset\n"
      ],
      "metadata": {
        "colab": {
          "base_uri": "https://localhost:8080/"
        },
        "id": "I3ehM07lmbl2",
        "outputId": "5e498dd8-3101-4550-a723-f57ade80114a"
      },
      "execution_count": 35,
      "outputs": [
        {
          "output_type": "stream",
          "name": "stdout",
          "text": [
            "real_and_fake_face  real_and_fake_face_detection\n"
          ]
        }
      ]
    },
    {
      "cell_type": "code",
      "source": [
        "import os\n",
        "import cv2\n",
        "import numpy as np\n",
        "import matplotlib.pyplot as plt\n",
        "from tensorflow.keras.preprocessing.image import ImageDataGenerator\n"
      ],
      "metadata": {
        "id": "m2088F-smpso"
      },
      "execution_count": 36,
      "outputs": []
    },
    {
      "cell_type": "code",
      "source": [
        "dataset_dir = \"/content/dataset\"  # Path where the dataset was extracted\n",
        "\n",
        "# Update these based on your dataset's actual folder names\n",
        "real_faces_dir = os.path.join(dataset_dir, \"real\")  # Change folder name if needed\n",
        "fake_faces_dir = os.path.join(dataset_dir, \"fake\")  # Change folder name if needed\n"
      ],
      "metadata": {
        "id": "4giwm4UImuhB"
      },
      "execution_count": 37,
      "outputs": []
    },
    {
      "cell_type": "code",
      "source": [
        "def show_images(directory, title):\n",
        "    fig, axes = plt.subplots(1, 5, figsize=(10, 5))\n",
        "    images = os.listdir(directory)[:5]  # Show first 5 images\n",
        "    for i, img_name in enumerate(images):\n",
        "        img = cv2.imread(os.path.join(directory, img_name))\n",
        "        img = cv2.cvtColor(img, cv2.COLOR_BGR2RGB)\n",
        "        axes[i].imshow(img)\n",
        "        axes[i].axis(\"off\")\n",
        "    plt.suptitle(title)\n",
        "    plt.show()"
      ],
      "metadata": {
        "id": "ri4eK0SCmxo0"
      },
      "execution_count": 38,
      "outputs": []
    },
    {
      "cell_type": "code",
      "source": [
        "!ls /content/dataset\n"
      ],
      "metadata": {
        "colab": {
          "base_uri": "https://localhost:8080/"
        },
        "id": "DFvT6gMJ64tU",
        "outputId": "3345a55d-04ba-47d7-d056-7903ae0c504d"
      },
      "execution_count": 39,
      "outputs": [
        {
          "output_type": "stream",
          "name": "stdout",
          "text": [
            "real_and_fake_face  real_and_fake_face_detection\n"
          ]
        }
      ]
    },
    {
      "cell_type": "code",
      "source": [
        "IMG_SIZE = 224  # Change if needed\n",
        "\n",
        "def preprocess_image(img_path):\n",
        "    img = cv2.imread(img_path)\n",
        "    img = cv2.cvtColor(img, cv2.COLOR_BGR2RGB)\n",
        "    img = cv2.resize(img, (IMG_SIZE, IMG_SIZE))\n",
        "    img = img / 255.0  # Normalize pixel values\n",
        "    return img\n"
      ],
      "metadata": {
        "id": "m9eTjm7P65Co"
      },
      "execution_count": 40,
      "outputs": []
    },
    {
      "cell_type": "code",
      "source": [
        "train_datagen = ImageDataGenerator(rescale=1./255, validation_split=0.2)  # 80% train, 20% validation\n",
        "\n",
        "train_generator = train_datagen.flow_from_directory(\n",
        "    dataset_dir,\n",
        "    target_size=(IMG_SIZE, IMG_SIZE),\n",
        "    batch_size=32,\n",
        "    class_mode='binary',\n",
        "    subset='training'\n",
        ")\n",
        "\n",
        "val_generator = train_datagen.flow_from_directory(\n",
        "    dataset_dir,\n",
        "    target_size=(IMG_SIZE, IMG_SIZE),\n",
        "    batch_size=32,\n",
        "    class_mode='binary',\n",
        "    subset='validation'\n",
        ")\n"
      ],
      "metadata": {
        "colab": {
          "base_uri": "https://localhost:8080/"
        },
        "id": "JeyORDDc67A-",
        "outputId": "612f8156-8623-4c18-b382-670983323241"
      },
      "execution_count": 41,
      "outputs": [
        {
          "output_type": "stream",
          "name": "stdout",
          "text": [
            "Found 3266 images belonging to 2 classes.\n",
            "Found 816 images belonging to 2 classes.\n"
          ]
        }
      ]
    },
    {
      "cell_type": "code",
      "source": [
        "import tensorflow as tf\n",
        "from tensorflow.keras.models import Sequential\n",
        "from tensorflow.keras.layers import Conv2D, MaxPooling2D, Flatten, Dense, Dropout\n"
      ],
      "metadata": {
        "id": "B1WDXE3s6-rH"
      },
      "execution_count": 20,
      "outputs": []
    },
    {
      "cell_type": "code",
      "source": [
        "model = Sequential([\n",
        "    Conv2D(32, (3, 3), activation='relu', input_shape=(224, 224, 3)),\n",
        "    MaxPooling2D(pool_size=(2, 2)),\n",
        "\n",
        "    Conv2D(64, (3, 3), activation='relu'),\n",
        "    MaxPooling2D(pool_size=(2, 2)),\n",
        "\n",
        "    Conv2D(128, (3, 3), activation='relu'),\n",
        "    MaxPooling2D(pool_size=(2, 2)),\n",
        "\n",
        "    Flatten(),\n",
        "    Dense(128, activation='relu'),\n",
        "    Dropout(0.5),\n",
        "    Dense(1, activation='sigmoid')  # Binary Classification (Real or Fake)\n",
        "])\n",
        "\n",
        "model.compile(optimizer='adam', loss='binary_crossentropy', metrics=['accuracy'])\n",
        "model.summary()\n"
      ],
      "metadata": {
        "colab": {
          "base_uri": "https://localhost:8080/",
          "height": 504
        },
        "id": "9iHnJCj17EsP",
        "outputId": "20b3b4d4-3a67-493e-f29a-02b21cb69cd1"
      },
      "execution_count": 21,
      "outputs": [
        {
          "output_type": "stream",
          "name": "stderr",
          "text": [
            "/usr/local/lib/python3.11/dist-packages/keras/src/layers/convolutional/base_conv.py:107: UserWarning: Do not pass an `input_shape`/`input_dim` argument to a layer. When using Sequential models, prefer using an `Input(shape)` object as the first layer in the model instead.\n",
            "  super().__init__(activity_regularizer=activity_regularizer, **kwargs)\n"
          ]
        },
        {
          "output_type": "display_data",
          "data": {
            "text/plain": [
              "\u001b[1mModel: \"sequential\"\u001b[0m\n"
            ],
            "text/html": [
              "<pre style=\"white-space:pre;overflow-x:auto;line-height:normal;font-family:Menlo,'DejaVu Sans Mono',consolas,'Courier New',monospace\"><span style=\"font-weight: bold\">Model: \"sequential\"</span>\n",
              "</pre>\n"
            ]
          },
          "metadata": {}
        },
        {
          "output_type": "display_data",
          "data": {
            "text/plain": [
              "┏━━━━━━━━━━━━━━━━━━━━━━━━━━━━━━━━━━━━━━┳━━━━━━━━━━━━━━━━━━━━━━━━━━━━━┳━━━━━━━━━━━━━━━━━┓\n",
              "┃\u001b[1m \u001b[0m\u001b[1mLayer (type)                        \u001b[0m\u001b[1m \u001b[0m┃\u001b[1m \u001b[0m\u001b[1mOutput Shape               \u001b[0m\u001b[1m \u001b[0m┃\u001b[1m \u001b[0m\u001b[1m        Param #\u001b[0m\u001b[1m \u001b[0m┃\n",
              "┡━━━━━━━━━━━━━━━━━━━━━━━━━━━━━━━━━━━━━━╇━━━━━━━━━━━━━━━━━━━━━━━━━━━━━╇━━━━━━━━━━━━━━━━━┩\n",
              "│ conv2d (\u001b[38;5;33mConv2D\u001b[0m)                      │ (\u001b[38;5;45mNone\u001b[0m, \u001b[38;5;34m222\u001b[0m, \u001b[38;5;34m222\u001b[0m, \u001b[38;5;34m32\u001b[0m)        │             \u001b[38;5;34m896\u001b[0m │\n",
              "├──────────────────────────────────────┼─────────────────────────────┼─────────────────┤\n",
              "│ max_pooling2d (\u001b[38;5;33mMaxPooling2D\u001b[0m)         │ (\u001b[38;5;45mNone\u001b[0m, \u001b[38;5;34m111\u001b[0m, \u001b[38;5;34m111\u001b[0m, \u001b[38;5;34m32\u001b[0m)        │               \u001b[38;5;34m0\u001b[0m │\n",
              "├──────────────────────────────────────┼─────────────────────────────┼─────────────────┤\n",
              "│ conv2d_1 (\u001b[38;5;33mConv2D\u001b[0m)                    │ (\u001b[38;5;45mNone\u001b[0m, \u001b[38;5;34m109\u001b[0m, \u001b[38;5;34m109\u001b[0m, \u001b[38;5;34m64\u001b[0m)        │          \u001b[38;5;34m18,496\u001b[0m │\n",
              "├──────────────────────────────────────┼─────────────────────────────┼─────────────────┤\n",
              "│ max_pooling2d_1 (\u001b[38;5;33mMaxPooling2D\u001b[0m)       │ (\u001b[38;5;45mNone\u001b[0m, \u001b[38;5;34m54\u001b[0m, \u001b[38;5;34m54\u001b[0m, \u001b[38;5;34m64\u001b[0m)          │               \u001b[38;5;34m0\u001b[0m │\n",
              "├──────────────────────────────────────┼─────────────────────────────┼─────────────────┤\n",
              "│ conv2d_2 (\u001b[38;5;33mConv2D\u001b[0m)                    │ (\u001b[38;5;45mNone\u001b[0m, \u001b[38;5;34m52\u001b[0m, \u001b[38;5;34m52\u001b[0m, \u001b[38;5;34m128\u001b[0m)         │          \u001b[38;5;34m73,856\u001b[0m │\n",
              "├──────────────────────────────────────┼─────────────────────────────┼─────────────────┤\n",
              "│ max_pooling2d_2 (\u001b[38;5;33mMaxPooling2D\u001b[0m)       │ (\u001b[38;5;45mNone\u001b[0m, \u001b[38;5;34m26\u001b[0m, \u001b[38;5;34m26\u001b[0m, \u001b[38;5;34m128\u001b[0m)         │               \u001b[38;5;34m0\u001b[0m │\n",
              "├──────────────────────────────────────┼─────────────────────────────┼─────────────────┤\n",
              "│ flatten (\u001b[38;5;33mFlatten\u001b[0m)                    │ (\u001b[38;5;45mNone\u001b[0m, \u001b[38;5;34m86528\u001b[0m)               │               \u001b[38;5;34m0\u001b[0m │\n",
              "├──────────────────────────────────────┼─────────────────────────────┼─────────────────┤\n",
              "│ dense (\u001b[38;5;33mDense\u001b[0m)                        │ (\u001b[38;5;45mNone\u001b[0m, \u001b[38;5;34m128\u001b[0m)                 │      \u001b[38;5;34m11,075,712\u001b[0m │\n",
              "├──────────────────────────────────────┼─────────────────────────────┼─────────────────┤\n",
              "│ dropout (\u001b[38;5;33mDropout\u001b[0m)                    │ (\u001b[38;5;45mNone\u001b[0m, \u001b[38;5;34m128\u001b[0m)                 │               \u001b[38;5;34m0\u001b[0m │\n",
              "├──────────────────────────────────────┼─────────────────────────────┼─────────────────┤\n",
              "│ dense_1 (\u001b[38;5;33mDense\u001b[0m)                      │ (\u001b[38;5;45mNone\u001b[0m, \u001b[38;5;34m1\u001b[0m)                   │             \u001b[38;5;34m129\u001b[0m │\n",
              "└──────────────────────────────────────┴─────────────────────────────┴─────────────────┘\n"
            ],
            "text/html": [
              "<pre style=\"white-space:pre;overflow-x:auto;line-height:normal;font-family:Menlo,'DejaVu Sans Mono',consolas,'Courier New',monospace\">┏━━━━━━━━━━━━━━━━━━━━━━━━━━━━━━━━━━━━━━┳━━━━━━━━━━━━━━━━━━━━━━━━━━━━━┳━━━━━━━━━━━━━━━━━┓\n",
              "┃<span style=\"font-weight: bold\"> Layer (type)                         </span>┃<span style=\"font-weight: bold\"> Output Shape                </span>┃<span style=\"font-weight: bold\">         Param # </span>┃\n",
              "┡━━━━━━━━━━━━━━━━━━━━━━━━━━━━━━━━━━━━━━╇━━━━━━━━━━━━━━━━━━━━━━━━━━━━━╇━━━━━━━━━━━━━━━━━┩\n",
              "│ conv2d (<span style=\"color: #0087ff; text-decoration-color: #0087ff\">Conv2D</span>)                      │ (<span style=\"color: #00d7ff; text-decoration-color: #00d7ff\">None</span>, <span style=\"color: #00af00; text-decoration-color: #00af00\">222</span>, <span style=\"color: #00af00; text-decoration-color: #00af00\">222</span>, <span style=\"color: #00af00; text-decoration-color: #00af00\">32</span>)        │             <span style=\"color: #00af00; text-decoration-color: #00af00\">896</span> │\n",
              "├──────────────────────────────────────┼─────────────────────────────┼─────────────────┤\n",
              "│ max_pooling2d (<span style=\"color: #0087ff; text-decoration-color: #0087ff\">MaxPooling2D</span>)         │ (<span style=\"color: #00d7ff; text-decoration-color: #00d7ff\">None</span>, <span style=\"color: #00af00; text-decoration-color: #00af00\">111</span>, <span style=\"color: #00af00; text-decoration-color: #00af00\">111</span>, <span style=\"color: #00af00; text-decoration-color: #00af00\">32</span>)        │               <span style=\"color: #00af00; text-decoration-color: #00af00\">0</span> │\n",
              "├──────────────────────────────────────┼─────────────────────────────┼─────────────────┤\n",
              "│ conv2d_1 (<span style=\"color: #0087ff; text-decoration-color: #0087ff\">Conv2D</span>)                    │ (<span style=\"color: #00d7ff; text-decoration-color: #00d7ff\">None</span>, <span style=\"color: #00af00; text-decoration-color: #00af00\">109</span>, <span style=\"color: #00af00; text-decoration-color: #00af00\">109</span>, <span style=\"color: #00af00; text-decoration-color: #00af00\">64</span>)        │          <span style=\"color: #00af00; text-decoration-color: #00af00\">18,496</span> │\n",
              "├──────────────────────────────────────┼─────────────────────────────┼─────────────────┤\n",
              "│ max_pooling2d_1 (<span style=\"color: #0087ff; text-decoration-color: #0087ff\">MaxPooling2D</span>)       │ (<span style=\"color: #00d7ff; text-decoration-color: #00d7ff\">None</span>, <span style=\"color: #00af00; text-decoration-color: #00af00\">54</span>, <span style=\"color: #00af00; text-decoration-color: #00af00\">54</span>, <span style=\"color: #00af00; text-decoration-color: #00af00\">64</span>)          │               <span style=\"color: #00af00; text-decoration-color: #00af00\">0</span> │\n",
              "├──────────────────────────────────────┼─────────────────────────────┼─────────────────┤\n",
              "│ conv2d_2 (<span style=\"color: #0087ff; text-decoration-color: #0087ff\">Conv2D</span>)                    │ (<span style=\"color: #00d7ff; text-decoration-color: #00d7ff\">None</span>, <span style=\"color: #00af00; text-decoration-color: #00af00\">52</span>, <span style=\"color: #00af00; text-decoration-color: #00af00\">52</span>, <span style=\"color: #00af00; text-decoration-color: #00af00\">128</span>)         │          <span style=\"color: #00af00; text-decoration-color: #00af00\">73,856</span> │\n",
              "├──────────────────────────────────────┼─────────────────────────────┼─────────────────┤\n",
              "│ max_pooling2d_2 (<span style=\"color: #0087ff; text-decoration-color: #0087ff\">MaxPooling2D</span>)       │ (<span style=\"color: #00d7ff; text-decoration-color: #00d7ff\">None</span>, <span style=\"color: #00af00; text-decoration-color: #00af00\">26</span>, <span style=\"color: #00af00; text-decoration-color: #00af00\">26</span>, <span style=\"color: #00af00; text-decoration-color: #00af00\">128</span>)         │               <span style=\"color: #00af00; text-decoration-color: #00af00\">0</span> │\n",
              "├──────────────────────────────────────┼─────────────────────────────┼─────────────────┤\n",
              "│ flatten (<span style=\"color: #0087ff; text-decoration-color: #0087ff\">Flatten</span>)                    │ (<span style=\"color: #00d7ff; text-decoration-color: #00d7ff\">None</span>, <span style=\"color: #00af00; text-decoration-color: #00af00\">86528</span>)               │               <span style=\"color: #00af00; text-decoration-color: #00af00\">0</span> │\n",
              "├──────────────────────────────────────┼─────────────────────────────┼─────────────────┤\n",
              "│ dense (<span style=\"color: #0087ff; text-decoration-color: #0087ff\">Dense</span>)                        │ (<span style=\"color: #00d7ff; text-decoration-color: #00d7ff\">None</span>, <span style=\"color: #00af00; text-decoration-color: #00af00\">128</span>)                 │      <span style=\"color: #00af00; text-decoration-color: #00af00\">11,075,712</span> │\n",
              "├──────────────────────────────────────┼─────────────────────────────┼─────────────────┤\n",
              "│ dropout (<span style=\"color: #0087ff; text-decoration-color: #0087ff\">Dropout</span>)                    │ (<span style=\"color: #00d7ff; text-decoration-color: #00d7ff\">None</span>, <span style=\"color: #00af00; text-decoration-color: #00af00\">128</span>)                 │               <span style=\"color: #00af00; text-decoration-color: #00af00\">0</span> │\n",
              "├──────────────────────────────────────┼─────────────────────────────┼─────────────────┤\n",
              "│ dense_1 (<span style=\"color: #0087ff; text-decoration-color: #0087ff\">Dense</span>)                      │ (<span style=\"color: #00d7ff; text-decoration-color: #00d7ff\">None</span>, <span style=\"color: #00af00; text-decoration-color: #00af00\">1</span>)                   │             <span style=\"color: #00af00; text-decoration-color: #00af00\">129</span> │\n",
              "└──────────────────────────────────────┴─────────────────────────────┴─────────────────┘\n",
              "</pre>\n"
            ]
          },
          "metadata": {}
        },
        {
          "output_type": "display_data",
          "data": {
            "text/plain": [
              "\u001b[1m Total params: \u001b[0m\u001b[38;5;34m11,169,089\u001b[0m (42.61 MB)\n"
            ],
            "text/html": [
              "<pre style=\"white-space:pre;overflow-x:auto;line-height:normal;font-family:Menlo,'DejaVu Sans Mono',consolas,'Courier New',monospace\"><span style=\"font-weight: bold\"> Total params: </span><span style=\"color: #00af00; text-decoration-color: #00af00\">11,169,089</span> (42.61 MB)\n",
              "</pre>\n"
            ]
          },
          "metadata": {}
        },
        {
          "output_type": "display_data",
          "data": {
            "text/plain": [
              "\u001b[1m Trainable params: \u001b[0m\u001b[38;5;34m11,169,089\u001b[0m (42.61 MB)\n"
            ],
            "text/html": [
              "<pre style=\"white-space:pre;overflow-x:auto;line-height:normal;font-family:Menlo,'DejaVu Sans Mono',consolas,'Courier New',monospace\"><span style=\"font-weight: bold\"> Trainable params: </span><span style=\"color: #00af00; text-decoration-color: #00af00\">11,169,089</span> (42.61 MB)\n",
              "</pre>\n"
            ]
          },
          "metadata": {}
        },
        {
          "output_type": "display_data",
          "data": {
            "text/plain": [
              "\u001b[1m Non-trainable params: \u001b[0m\u001b[38;5;34m0\u001b[0m (0.00 B)\n"
            ],
            "text/html": [
              "<pre style=\"white-space:pre;overflow-x:auto;line-height:normal;font-family:Menlo,'DejaVu Sans Mono',consolas,'Courier New',monospace\"><span style=\"font-weight: bold\"> Non-trainable params: </span><span style=\"color: #00af00; text-decoration-color: #00af00\">0</span> (0.00 B)\n",
              "</pre>\n"
            ]
          },
          "metadata": {}
        }
      ]
    },
    {
      "cell_type": "code",
      "source": [
        "history = model.fit(train_generator, validation_data=val_generator, epochs=10)\n"
      ],
      "metadata": {
        "colab": {
          "base_uri": "https://localhost:8080/"
        },
        "id": "-8h-lT2M7GO2",
        "outputId": "17e12f52-0601-4402-c51d-fa8561f4a9f0"
      },
      "execution_count": 22,
      "outputs": [
        {
          "metadata": {
            "tags": null
          },
          "name": "stderr",
          "output_type": "stream",
          "text": [
            "/usr/local/lib/python3.11/dist-packages/keras/src/trainers/data_adapters/py_dataset_adapter.py:121: UserWarning: Your `PyDataset` class should call `super().__init__(**kwargs)` in its constructor. `**kwargs` can include `workers`, `use_multiprocessing`, `max_queue_size`. Do not pass these arguments to `fit()`, as they will be ignored.\n",
            "  self._warn_if_super_not_called()\n"
          ]
        },
        {
          "output_type": "stream",
          "name": "stdout",
          "text": [
            "Epoch 1/10\n",
            "\u001b[1m103/103\u001b[0m \u001b[32m━━━━━━━━━━━━━━━━━━━━\u001b[0m\u001b[37m\u001b[0m \u001b[1m438s\u001b[0m 4s/step - accuracy: 0.4958 - loss: 0.9876 - val_accuracy: 0.5000 - val_loss: 0.6932\n",
            "Epoch 2/10\n",
            "\u001b[1m103/103\u001b[0m \u001b[32m━━━━━━━━━━━━━━━━━━━━\u001b[0m\u001b[37m\u001b[0m \u001b[1m441s\u001b[0m 4s/step - accuracy: 0.4980 - loss: 0.6933 - val_accuracy: 0.5000 - val_loss: 0.6931\n",
            "Epoch 3/10\n",
            "\u001b[1m103/103\u001b[0m \u001b[32m━━━━━━━━━━━━━━━━━━━━\u001b[0m\u001b[37m\u001b[0m \u001b[1m426s\u001b[0m 4s/step - accuracy: 0.4836 - loss: 0.6932 - val_accuracy: 0.5000 - val_loss: 0.6931\n",
            "Epoch 4/10\n",
            "\u001b[1m103/103\u001b[0m \u001b[32m━━━━━━━━━━━━━━━━━━━━\u001b[0m\u001b[37m\u001b[0m \u001b[1m440s\u001b[0m 4s/step - accuracy: 0.4943 - loss: 0.6932 - val_accuracy: 0.5000 - val_loss: 0.6932\n",
            "Epoch 5/10\n",
            "\u001b[1m103/103\u001b[0m \u001b[32m━━━━━━━━━━━━━━━━━━━━\u001b[0m\u001b[37m\u001b[0m \u001b[1m431s\u001b[0m 4s/step - accuracy: 0.5064 - loss: 0.6932 - val_accuracy: 0.5000 - val_loss: 0.6932\n",
            "Epoch 6/10\n",
            "\u001b[1m103/103\u001b[0m \u001b[32m━━━━━━━━━━━━━━━━━━━━\u001b[0m\u001b[37m\u001b[0m \u001b[1m422s\u001b[0m 4s/step - accuracy: 0.5035 - loss: 0.6932 - val_accuracy: 0.5000 - val_loss: 0.6931\n",
            "Epoch 7/10\n",
            "\u001b[1m103/103\u001b[0m \u001b[32m━━━━━━━━━━━━━━━━━━━━\u001b[0m\u001b[37m\u001b[0m \u001b[1m434s\u001b[0m 4s/step - accuracy: 0.4887 - loss: 0.6932 - val_accuracy: 0.5000 - val_loss: 0.6932\n",
            "Epoch 8/10\n",
            "\u001b[1m103/103\u001b[0m \u001b[32m━━━━━━━━━━━━━━━━━━━━\u001b[0m\u001b[37m\u001b[0m \u001b[1m432s\u001b[0m 4s/step - accuracy: 0.4924 - loss: 0.6933 - val_accuracy: 0.5000 - val_loss: 0.6932\n",
            "Epoch 9/10\n",
            "\u001b[1m103/103\u001b[0m \u001b[32m━━━━━━━━━━━━━━━━━━━━\u001b[0m\u001b[37m\u001b[0m \u001b[1m424s\u001b[0m 4s/step - accuracy: 0.4994 - loss: 0.6933 - val_accuracy: 0.5000 - val_loss: 0.6932\n",
            "Epoch 10/10\n",
            "\u001b[1m103/103\u001b[0m \u001b[32m━━━━━━━━━━━━━━━━━━━━\u001b[0m\u001b[37m\u001b[0m \u001b[1m432s\u001b[0m 4s/step - accuracy: 0.5122 - loss: 0.6931 - val_accuracy: 0.5000 - val_loss: 0.6932\n"
          ]
        }
      ]
    },
    {
      "cell_type": "code",
      "source": [
        "from google.colab import drive\n",
        "drive.mount('/content/drive')\n"
      ],
      "metadata": {
        "colab": {
          "base_uri": "https://localhost:8080/"
        },
        "id": "hqCYpO0PN7L9",
        "outputId": "fdd6040f-1c1f-4592-99a5-56102f0e1b1f"
      },
      "execution_count": 46,
      "outputs": [
        {
          "output_type": "stream",
          "name": "stdout",
          "text": [
            "Drive already mounted at /content/drive; to attempt to forcibly remount, call drive.mount(\"/content/drive\", force_remount=True).\n"
          ]
        }
      ]
    },
    {
      "cell_type": "code",
      "source": [
        "print(os.listdir(\"/content/drive/MyDrive/\"))\n"
      ],
      "metadata": {
        "colab": {
          "base_uri": "https://localhost:8080/"
        },
        "id": "sIo-lEBxOE3F",
        "outputId": "748d9063-1b3c-4a61-f1e9-42c4af5034a2"
      },
      "execution_count": 47,
      "outputs": [
        {
          "output_type": "stream",
          "name": "stdout",
          "text": [
            "['Getting started.pdf', 'Resume.gdoc', 'Google Keep Document.gdoc', 'Untitled site (1).gsite', 'www.rajkailaj.com.gsite', 'Untitled site.gsite', 'Document from Aryan (1).pdf', 'aryan resume 1 (1).pdf', 'Safeguarding Policy_Pratigya_08052022.gdoc', 'com.png', 'aryan resume 1.pdf', 'Untitled form.gform', 'Solve.gsheet', 'Document from Aryan.pdf', 'aryan resume.pdf', 'Colab Notebooks', 'In The Garden of love.gdoc', 'Feature\\tCompetitor (Rapido)\\tCompetitor (Uber Moto... (1).gsheet', 'Feature\\tCompetitor (Rapido)\\tCompetitor (Uber Moto....gsheet', 'graph or pie chart.gsheet', 'final resume.pdf', 'archive.zip']\n"
          ]
        }
      ]
    },
    {
      "cell_type": "code",
      "source": [
        "import zipfile\n",
        "\n",
        "zip_path = \"/content/drive/MyDrive/archive.zip\"  # Change if needed\n",
        "extract_path = \"/content/drive/MyDrive/archive\"\n",
        "\n",
        "with zipfile.ZipFile(zip_path, \"r\") as zip_ref:\n",
        "    zip_ref.extractall(extract_path)\n",
        "\n",
        "print(\"Extraction completed.\")\n"
      ],
      "metadata": {
        "colab": {
          "base_uri": "https://localhost:8080/"
        },
        "id": "j1qpEd1UOHf5",
        "outputId": "03b71170-a347-49fa-fa72-77f5c7bed8ef"
      },
      "execution_count": 48,
      "outputs": [
        {
          "output_type": "stream",
          "name": "stdout",
          "text": [
            "Extraction completed.\n"
          ]
        }
      ]
    },
    {
      "cell_type": "code",
      "source": [
        "print(\"Folders inside extracted dataset:\", os.listdir(\"/content/drive/MyDrive/archive\"))\n"
      ],
      "metadata": {
        "colab": {
          "base_uri": "https://localhost:8080/"
        },
        "id": "oZMxYqG_ONhm",
        "outputId": "b6878d4c-8bc8-4b4a-921f-1a8f0e0db88d"
      },
      "execution_count": 49,
      "outputs": [
        {
          "output_type": "stream",
          "name": "stdout",
          "text": [
            "Folders inside extracted dataset: ['real_and_fake_face', 'real_and_fake_face_detection']\n"
          ]
        }
      ]
    },
    {
      "cell_type": "code",
      "source": [
        "import os\n",
        "\n",
        "dataset_path = \"/content/drive/MyDrive/archive\"  # Root folder where dataset is extracted\n",
        "for folder in os.listdir(dataset_path):\n",
        "    print(f\"📂 {folder}: {os.listdir(os.path.join(dataset_path, folder))[:5]}\")\n"
      ],
      "metadata": {
        "colab": {
          "base_uri": "https://localhost:8080/"
        },
        "id": "cPgdakWQOb9-",
        "outputId": "b2fc3d04-1c73-475e-fd0e-7dc4c533ec9b"
      },
      "execution_count": 50,
      "outputs": [
        {
          "output_type": "stream",
          "name": "stdout",
          "text": [
            "📂 real_and_fake_face: ['training_fake', 'training_real']\n",
            "📂 real_and_fake_face_detection: ['real_and_fake_face']\n"
          ]
        }
      ]
    },
    {
      "cell_type": "code",
      "source": [
        "train_real_dir = \"/content/drive/MyDrive/archive/real_and_fake_face/training_real\"\n",
        "train_fake_dir = \"/content/drive/MyDrive/archive/real_and_fake_face/training_fake\"\n"
      ],
      "metadata": {
        "id": "KEqpl6-DOi6j"
      },
      "execution_count": 51,
      "outputs": []
    },
    {
      "cell_type": "code",
      "source": [
        "import os, shutil\n",
        "import random\n",
        "\n",
        "# Define new paths\n",
        "val_dir = \"/content/drive/MyDrive/archive/real_and_fake_face/validation\"\n",
        "val_real_dir = os.path.join(val_dir, \"real\")\n",
        "val_fake_dir = os.path.join(val_dir, \"fake\")\n",
        "\n",
        "# Create validation directories\n",
        "os.makedirs(val_real_dir, exist_ok=True)\n",
        "os.makedirs(val_fake_dir, exist_ok=True)\n",
        "\n",
        "# Move 20% of images from train → validation\n",
        "def move_images(src_dir, dest_dir, split_ratio=0.2):\n",
        "    images = os.listdir(src_dir)\n",
        "    random.shuffle(images)  # Shuffle for randomness\n",
        "    num_val = int(len(images) * split_ratio)  # 20% of data\n",
        "\n",
        "    for img in images[:num_val]:\n",
        "        src\n"
      ],
      "metadata": {
        "id": "sIOgPbXqOnqm"
      },
      "execution_count": 53,
      "outputs": []
    },
    {
      "cell_type": "code",
      "source": [
        "print(\"Training Real:\", len(os.listdir(train_real_dir)))\n",
        "print(\"Training Fake:\", len(os.listdir(train_fake_dir)))\n",
        "print(\"Validation Real:\", len(os.listdir(val_real_dir)))\n",
        "print(\"Validation Fake:\", len(os.listdir(val_fake_dir)))\n"
      ],
      "metadata": {
        "colab": {
          "base_uri": "https://localhost:8080/"
        },
        "id": "ehB8zaccOo8T",
        "outputId": "5d941f57-21ba-497d-fc24-5f551976d4d2"
      },
      "execution_count": 54,
      "outputs": [
        {
          "output_type": "stream",
          "name": "stdout",
          "text": [
            "Training Real: 1081\n",
            "Training Fake: 960\n",
            "Validation Real: 0\n",
            "Validation Fake: 0\n"
          ]
        }
      ]
    },
    {
      "cell_type": "code",
      "source": [
        "import os\n",
        "\n",
        "train_real_dir = \"/content/drive/MyDrive/archive/real_and_fake_face/training_real\"\n",
        "train_fake_dir = \"/content/drive/MyDrive/archive/real_and_fake_face/training_fake\"\n",
        "\n",
        "print(\"Total real images:\", len(os.listdir(train_real_dir)))\n",
        "print(\"Total fake images:\", len(os.listdir(train_fake_dir)))\n"
      ],
      "metadata": {
        "colab": {
          "base_uri": "https://localhost:8080/"
        },
        "id": "1IJnC12YOrYK",
        "outputId": "ad70bd6f-2c55-47c7-e11e-e24b2ea0c8a4"
      },
      "execution_count": 55,
      "outputs": [
        {
          "output_type": "stream",
          "name": "stdout",
          "text": [
            "Total real images: 1081\n",
            "Total fake images: 960\n"
          ]
        }
      ]
    },
    {
      "cell_type": "code",
      "source": [
        "print(\"Training Real:\", len(os.listdir(\"/content/drive/MyDrive/archive/real_and_fake_face/training_real\")))\n",
        "print(\"Training Fake:\", len(os.listdir(\"/content/drive/MyDrive/archive/real_and_fake_face/training_fake\")))\n",
        "print(\"Validation Real:\", len(os.listdir(\"/content/drive/MyDrive/archive/real_and_fake_face/validation/real\")))\n",
        "print(\"Validation Fake:\", len(os.listdir(\"/content/drive/MyDrive/archive/real_and_fake_face/validation/fake\")))\n"
      ],
      "metadata": {
        "colab": {
          "base_uri": "https://localhost:8080/"
        },
        "id": "DRYwPMOMO1xr",
        "outputId": "779884c3-6361-48f4-bc9d-51ebb0d24bf1"
      },
      "execution_count": 58,
      "outputs": [
        {
          "output_type": "stream",
          "name": "stdout",
          "text": [
            "Training Real: 865\n",
            "Training Fake: 768\n",
            "Validation Real: 216\n",
            "Validation Fake: 192\n"
          ]
        }
      ]
    },
    {
      "cell_type": "code",
      "source": [
        "import os\n",
        "\n",
        "train_real_dir = \"/content/drive/MyDrive/archive/real_and_fake_face/training_real\"\n",
        "train_fake_dir = \"/content/drive/MyDrive/archive/real_and_fake_face/training_fake\"\n",
        "\n",
        "print(\"Folders inside Training Real Directory:\", os.listdir(train_real_dir))\n",
        "print(\"Folders inside Training Fake Directory:\", os.listdir(train_fake_dir))"
      ],
      "metadata": {
        "colab": {
          "base_uri": "https://localhost:8080/"
        },
        "id": "uHm3wE-ZPAqj",
        "outputId": "2471533e-6106-4e60-aee2-9ca3e7decd06"
      },
      "execution_count": 62,
      "outputs": [
        {
          "output_type": "stream",
          "name": "stdout",
          "text": [
            "Folders inside Training Real Directory: ['real_00001.jpg', 'real_00003.jpg', 'real_00004.jpg', 'real_00005.jpg', 'real_00006.jpg', 'real_00007.jpg', 'real_00008.jpg', 'real_00009.jpg', 'real_00010.jpg', 'real_00011.jpg', 'real_00012.jpg', 'real_00013.jpg', 'real_00014.jpg', 'real_00015.jpg', 'real_00018.jpg', 'real_00019.jpg', 'real_00020.jpg', 'real_00021.jpg', 'real_00022.jpg', 'real_00023.jpg', 'real_00024.jpg', 'real_00025.jpg', 'real_00026.jpg', 'real_00027.jpg', 'real_00028.jpg', 'real_00030.jpg', 'real_00031.jpg', 'real_00032.jpg', 'real_00033.jpg', 'real_00035.jpg', 'real_00036.jpg', 'real_00037.jpg', 'real_00039.jpg', 'real_00040.jpg', 'real_00042.jpg', 'real_00043.jpg', 'real_00044.jpg', 'real_00046.jpg', 'real_00047.jpg', 'real_00048.jpg', 'real_00049.jpg', 'real_00050.jpg', 'real_00051.jpg', 'real_00052.jpg', 'real_00053.jpg', 'real_00054.jpg', 'real_00056.jpg', 'real_00057.jpg', 'real_00058.jpg', 'real_00059.jpg', 'real_00061.jpg', 'real_00062.jpg', 'real_00065.jpg', 'real_00067.jpg', 'real_00068.jpg', 'real_00069.jpg', 'real_00075.jpg', 'real_00076.jpg', 'real_00077.jpg', 'real_00078.jpg', 'real_00079.jpg', 'real_00080.jpg', 'real_00081.jpg', 'real_00082.jpg', 'real_00083.jpg', 'real_00084.jpg', 'real_00089.jpg', 'real_00090.jpg', 'real_00091.jpg', 'real_00092.jpg', 'real_00093.jpg', 'real_00094.jpg', 'real_00095.jpg', 'real_00098.jpg', 'real_00099.jpg', 'real_00100.jpg', 'real_00101.jpg', 'real_00103.jpg', 'real_00104.jpg', 'real_00106.jpg', 'real_00107.jpg', 'real_00109.jpg', 'real_00110.jpg', 'real_00111.jpg', 'real_00113.jpg', 'real_00114.jpg', 'real_00115.jpg', 'real_00116.jpg', 'real_00118.jpg', 'real_00119.jpg', 'real_00120.jpg', 'real_00122.jpg', 'real_00123.jpg', 'real_00125.jpg', 'real_00127.jpg', 'real_00128.jpg', 'real_00129.jpg', 'real_00130.jpg', 'real_00132.jpg', 'real_00134.jpg', 'real_00135.jpg', 'real_00136.jpg', 'real_00137.jpg', 'real_00138.jpg', 'real_00139.jpg', 'real_00140.jpg', 'real_00141.jpg', 'real_00142.jpg', 'real_00143.jpg', 'real_00144.jpg', 'real_00145.jpg', 'real_00146.jpg', 'real_00148.jpg', 'real_00149.jpg', 'real_00150.jpg', 'real_00151.jpg', 'real_00153.jpg', 'real_00155.jpg', 'real_00156.jpg', 'real_00158.jpg', 'real_00159.jpg', 'real_00160.jpg', 'real_00161.jpg', 'real_00162.jpg', 'real_00163.jpg', 'real_00164.jpg', 'real_00166.jpg', 'real_00167.jpg', 'real_00168.jpg', 'real_00169.jpg', 'real_00172.jpg', 'real_00173.jpg', 'real_00174.jpg', 'real_00176.jpg', 'real_00177.jpg', 'real_00178.jpg', 'real_00180.jpg', 'real_00181.jpg', 'real_00182.jpg', 'real_00183.jpg', 'real_00184.jpg', 'real_00185.jpg', 'real_00186.jpg', 'real_00187.jpg', 'real_00188.jpg', 'real_00190.jpg', 'real_00191.jpg', 'real_00193.jpg', 'real_00194.jpg', 'real_00195.jpg', 'real_00197.jpg', 'real_00199.jpg', 'real_00200.jpg', 'real_00201.jpg', 'real_00204.jpg', 'real_00205.jpg', 'real_00206.jpg', 'real_00207.jpg', 'real_00208.jpg', 'real_00209.jpg', 'real_00210.jpg', 'real_00211.jpg', 'real_00212.jpg', 'real_00213.jpg', 'real_00215.jpg', 'real_00216.jpg', 'real_00217.jpg', 'real_00218.jpg', 'real_00220.jpg', 'real_00222.jpg', 'real_00223.jpg', 'real_00224.jpg', 'real_00225.jpg', 'real_00226.jpg', 'real_00227.jpg', 'real_00229.jpg', 'real_00230.jpg', 'real_00231.jpg', 'real_00232.jpg', 'real_00233.jpg', 'real_00234.jpg', 'real_00235.jpg', 'real_00237.jpg', 'real_00238.jpg', 'real_00239.jpg', 'real_00240.jpg', 'real_00241.jpg', 'real_00242.jpg', 'real_00243.jpg', 'real_00244.jpg', 'real_00245.jpg', 'real_00246.jpg', 'real_00247.jpg', 'real_00248.jpg', 'real_00249.jpg', 'real_00250.jpg', 'real_00251.jpg', 'real_00252.jpg', 'real_00253.jpg', 'real_00254.jpg', 'real_00255.jpg', 'real_00256.jpg', 'real_00257.jpg', 'real_00258.jpg', 'real_00259.jpg', 'real_00260.jpg', 'real_00261.jpg', 'real_00262.jpg', 'real_00263.jpg', 'real_00264.jpg', 'real_00265.jpg', 'real_00267.jpg', 'real_00268.jpg', 'real_00269.jpg', 'real_00271.jpg', 'real_00272.jpg', 'real_00273.jpg', 'real_00274.jpg', 'real_00275.jpg', 'real_00276.jpg', 'real_00277.jpg', 'real_00279.jpg', 'real_00281.jpg', 'real_00282.jpg', 'real_00283.jpg', 'real_00284.jpg', 'real_00285.jpg', 'real_00287.jpg', 'real_00288.jpg', 'real_00289.jpg', 'real_00290.jpg', 'real_00291.jpg', 'real_00292.jpg', 'real_00293.jpg', 'real_00294.jpg', 'real_00295.jpg', 'real_00296.jpg', 'real_00298.jpg', 'real_00299.jpg', 'real_00300.jpg', 'real_00301.jpg', 'real_00302.jpg', 'real_00303.jpg', 'real_00304.jpg', 'real_00305.jpg', 'real_00306.jpg', 'real_00307.jpg', 'real_00308.jpg', 'real_00309.jpg', 'real_00311.jpg', 'real_00312.jpg', 'real_00315.jpg', 'real_00316.jpg', 'real_00317.jpg', 'real_00318.jpg', 'real_00319.jpg', 'real_00320.jpg', 'real_00321.jpg', 'real_00322.jpg', 'real_00324.jpg', 'real_00326.jpg', 'real_00327.jpg', 'real_00328.jpg', 'real_00329.jpg', 'real_00330.jpg', 'real_00331.jpg', 'real_00333.jpg', 'real_00334.jpg', 'real_00335.jpg', 'real_00336.jpg', 'real_00337.jpg', 'real_00338.jpg', 'real_00339.jpg', 'real_00340.jpg', 'real_00341.jpg', 'real_00342.jpg', 'real_00344.jpg', 'real_00345.jpg', 'real_00347.jpg', 'real_00348.jpg', 'real_00349.jpg', 'real_00350.jpg', 'real_00351.jpg', 'real_00352.jpg', 'real_00353.jpg', 'real_00354.jpg', 'real_00355.jpg', 'real_00356.jpg', 'real_00357.jpg', 'real_00358.jpg', 'real_00359.jpg', 'real_00360.jpg', 'real_00361.jpg', 'real_00362.jpg', 'real_00363.jpg', 'real_00364.jpg', 'real_00365.jpg', 'real_00366.jpg', 'real_00367.jpg', 'real_00368.jpg', 'real_00369.jpg', 'real_00372.jpg', 'real_00373.jpg', 'real_00376.jpg', 'real_00377.jpg', 'real_00378.jpg', 'real_00379.jpg', 'real_00380.jpg', 'real_00381.jpg', 'real_00382.jpg', 'real_00383.jpg', 'real_00385.jpg', 'real_00386.jpg', 'real_00387.jpg', 'real_00390.jpg', 'real_00393.jpg', 'real_00394.jpg', 'real_00395.jpg', 'real_00399.jpg', 'real_00400.jpg', 'real_00401.jpg', 'real_00402.jpg', 'real_00404.jpg', 'real_00405.jpg', 'real_00406.jpg', 'real_00407.jpg', 'real_00408.jpg', 'real_00409.jpg', 'real_00410.jpg', 'real_00411.jpg', 'real_00412.jpg', 'real_00413.jpg', 'real_00415.jpg', 'real_00416.jpg', 'real_00417.jpg', 'real_00418.jpg', 'real_00419.jpg', 'real_00420.jpg', 'real_00421.jpg', 'real_00422.jpg', 'real_00423.jpg', 'real_00424.jpg', 'real_00428.jpg', 'real_00430.jpg', 'real_00431.jpg', 'real_00432.jpg', 'real_00434.jpg', 'real_00435.jpg', 'real_00436.jpg', 'real_00438.jpg', 'real_00439.jpg', 'real_00440.jpg', 'real_00441.jpg', 'real_00442.jpg', 'real_00443.jpg', 'real_00444.jpg', 'real_00445.jpg', 'real_00447.jpg', 'real_00448.jpg', 'real_00449.jpg', 'real_00450.jpg', 'real_00451.jpg', 'real_00452.jpg', 'real_00453.jpg', 'real_00454.jpg', 'real_00455.jpg', 'real_00456.jpg', 'real_00457.jpg', 'real_00459.jpg', 'real_00460.jpg', 'real_00463.jpg', 'real_00464.jpg', 'real_00465.jpg', 'real_00466.jpg', 'real_00468.jpg', 'real_00469.jpg', 'real_00470.jpg', 'real_00471.jpg', 'real_00472.jpg', 'real_00473.jpg', 'real_00474.jpg', 'real_00475.jpg', 'real_00476.jpg', 'real_00477.jpg', 'real_00478.jpg', 'real_00479.jpg', 'real_00480.jpg', 'real_00481.jpg', 'real_00482.jpg', 'real_00483.jpg', 'real_00484.jpg', 'real_00485.jpg', 'real_00487.jpg', 'real_00488.jpg', 'real_00489.jpg', 'real_00490.jpg', 'real_00492.jpg', 'real_00493.jpg', 'real_00495.jpg', 'real_00497.jpg', 'real_00499.jpg', 'real_00500.jpg', 'real_00502.jpg', 'real_00503.jpg', 'real_00504.jpg', 'real_00505.jpg', 'real_00507.jpg', 'real_00509.jpg', 'real_00510.jpg', 'real_00511.jpg', 'real_00513.jpg', 'real_00514.jpg', 'real_00515.jpg', 'real_00517.jpg', 'real_00520.jpg', 'real_00521.jpg', 'real_00522.jpg', 'real_00523.jpg', 'real_00524.jpg', 'real_00525.jpg', 'real_00526.jpg', 'real_00527.jpg', 'real_00528.jpg', 'real_00530.jpg', 'real_00531.jpg', 'real_00532.jpg', 'real_00533.jpg', 'real_00534.jpg', 'real_00536.jpg', 'real_00537.jpg', 'real_00538.jpg', 'real_00539.jpg', 'real_00540.jpg', 'real_00541.jpg', 'real_00542.jpg', 'real_00543.jpg', 'real_00544.jpg', 'real_00545.jpg', 'real_00546.jpg', 'real_00547.jpg', 'real_00549.jpg', 'real_00550.jpg', 'real_00551.jpg', 'real_00553.jpg', 'real_00554.jpg', 'real_00555.jpg', 'real_00557.jpg', 'real_00558.jpg', 'real_00559.jpg', 'real_00560.jpg', 'real_00562.jpg', 'real_00563.jpg', 'real_00564.jpg', 'real_00565.jpg', 'real_00567.jpg', 'real_00568.jpg', 'real_00569.jpg', 'real_00571.jpg', 'real_00574.jpg', 'real_00575.jpg', 'real_00576.jpg', 'real_00578.jpg', 'real_00579.jpg', 'real_00581.jpg', 'real_00583.jpg', 'real_00584.jpg', 'real_00585.jpg', 'real_00586.jpg', 'real_00587.jpg', 'real_00588.jpg', 'real_00590.jpg', 'real_00591.jpg', 'real_00592.jpg', 'real_00593.jpg', 'real_00594.jpg', 'real_00595.jpg', 'real_00596.jpg', 'real_00597.jpg', 'real_00598.jpg', 'real_00599.jpg', 'real_00600.jpg', 'real_00601.jpg', 'real_00602.jpg', 'real_00603.jpg', 'real_00604.jpg', 'real_00606.jpg', 'real_00607.jpg', 'real_00608.jpg', 'real_00609.jpg', 'real_00610.jpg', 'real_00612.jpg', 'real_00613.jpg', 'real_00614.jpg', 'real_00615.jpg', 'real_00618.jpg', 'real_00619.jpg', 'real_00620.jpg', 'real_00621.jpg', 'real_00622.jpg', 'real_00623.jpg', 'real_00624.jpg', 'real_00625.jpg', 'real_00626.jpg', 'real_00627.jpg', 'real_00628.jpg', 'real_00629.jpg', 'real_00630.jpg', 'real_00631.jpg', 'real_00632.jpg', 'real_00633.jpg', 'real_00636.jpg', 'real_00637.jpg', 'real_00639.jpg', 'real_00641.jpg', 'real_00642.jpg', 'real_00643.jpg', 'real_00644.jpg', 'real_00646.jpg', 'real_00647.jpg', 'real_00648.jpg', 'real_00651.jpg', 'real_00652.jpg', 'real_00653.jpg', 'real_00655.jpg', 'real_00656.jpg', 'real_00657.jpg', 'real_00658.jpg', 'real_00659.jpg', 'real_00661.jpg', 'real_00664.jpg', 'real_00666.jpg', 'real_00667.jpg', 'real_00668.jpg', 'real_00669.jpg', 'real_00672.jpg', 'real_00673.jpg', 'real_00674.jpg', 'real_00676.jpg', 'real_00677.jpg', 'real_00678.jpg', 'real_00679.jpg', 'real_00680.jpg', 'real_00681.jpg', 'real_00682.jpg', 'real_00683.jpg', 'real_00684.jpg', 'real_00685.jpg', 'real_00686.jpg', 'real_00687.jpg', 'real_00688.jpg', 'real_00689.jpg', 'real_00690.jpg', 'real_00691.jpg', 'real_00693.jpg', 'real_00694.jpg', 'real_00695.jpg', 'real_00696.jpg', 'real_00697.jpg', 'real_00698.jpg', 'real_00699.jpg', 'real_00700.jpg', 'real_00701.jpg', 'real_00703.jpg', 'real_00704.jpg', 'real_00705.jpg', 'real_00706.jpg', 'real_00707.jpg', 'real_00708.jpg', 'real_00709.jpg', 'real_00711.jpg', 'real_00712.jpg', 'real_00713.jpg', 'real_00714.jpg', 'real_00715.jpg', 'real_00716.jpg', 'real_00718.jpg', 'real_00719.jpg', 'real_00720.jpg', 'real_00722.jpg', 'real_00724.jpg', 'real_00725.jpg', 'real_00727.jpg', 'real_00730.jpg', 'real_00731.jpg', 'real_00732.jpg', 'real_00733.jpg', 'real_00735.jpg', 'real_00737.jpg', 'real_00738.jpg', 'real_00739.jpg', 'real_00740.jpg', 'real_00741.jpg', 'real_00742.jpg', 'real_00743.jpg', 'real_00745.jpg', 'real_00746.jpg', 'real_00747.jpg', 'real_00748.jpg', 'real_00749.jpg', 'real_00750.jpg', 'real_00751.jpg', 'real_00752.jpg', 'real_00753.jpg', 'real_00754.jpg', 'real_00755.jpg', 'real_00756.jpg', 'real_00757.jpg', 'real_00759.jpg', 'real_00760.jpg', 'real_00761.jpg', 'real_00762.jpg', 'real_00763.jpg', 'real_00764.jpg', 'real_00765.jpg', 'real_00766.jpg', 'real_00767.jpg', 'real_00768.jpg', 'real_00770.jpg', 'real_00771.jpg', 'real_00772.jpg', 'real_00773.jpg', 'real_00774.jpg', 'real_00775.jpg', 'real_00776.jpg', 'real_00778.jpg', 'real_00779.jpg', 'real_00780.jpg', 'real_00781.jpg', 'real_00782.jpg', 'real_00783.jpg', 'real_00785.jpg', 'real_00786.jpg', 'real_00787.jpg', 'real_00788.jpg', 'real_00789.jpg', 'real_00791.jpg', 'real_00792.jpg', 'real_00793.jpg', 'real_00796.jpg', 'real_00797.jpg', 'real_00798.jpg', 'real_00799.jpg', 'real_00800.jpg', 'real_00802.jpg', 'real_00803.jpg', 'real_00804.jpg', 'real_00805.jpg', 'real_00807.jpg', 'real_00808.jpg', 'real_00809.jpg', 'real_00810.jpg', 'real_00811.jpg', 'real_00812.jpg', 'real_00813.jpg', 'real_00814.jpg', 'real_00815.jpg', 'real_00816.jpg', 'real_00817.jpg', 'real_00818.jpg', 'real_00819.jpg', 'real_00821.jpg', 'real_00822.jpg', 'real_00823.jpg', 'real_00825.jpg', 'real_00827.jpg', 'real_00828.jpg', 'real_00829.jpg', 'real_00830.jpg', 'real_00831.jpg', 'real_00833.jpg', 'real_00834.jpg', 'real_00835.jpg', 'real_00836.jpg', 'real_00837.jpg', 'real_00839.jpg', 'real_00841.jpg', 'real_00842.jpg', 'real_00843.jpg', 'real_00846.jpg', 'real_00847.jpg', 'real_00848.jpg', 'real_00849.jpg', 'real_00850.jpg', 'real_00851.jpg', 'real_00852.jpg', 'real_00854.jpg', 'real_00855.jpg', 'real_00857.jpg', 'real_00860.jpg', 'real_00862.jpg', 'real_00863.jpg', 'real_00865.jpg', 'real_00866.jpg', 'real_00867.jpg', 'real_00868.jpg', 'real_00869.jpg', 'real_00871.jpg', 'real_00872.jpg', 'real_00873.jpg', 'real_00874.jpg', 'real_00875.jpg', 'real_00876.jpg', 'real_00878.jpg', 'real_00880.jpg', 'real_00881.jpg', 'real_00882.jpg', 'real_00883.jpg', 'real_00884.jpg', 'real_00885.jpg', 'real_00887.jpg', 'real_00888.jpg', 'real_00890.jpg', 'real_00891.jpg', 'real_00893.jpg', 'real_00894.jpg', 'real_00897.jpg', 'real_00899.jpg', 'real_00900.jpg', 'real_00902.jpg', 'real_00904.jpg', 'real_00905.jpg', 'real_00906.jpg', 'real_00907.jpg', 'real_00908.jpg', 'real_00910.jpg', 'real_00911.jpg', 'real_00912.jpg', 'real_00915.jpg', 'real_00916.jpg', 'real_00917.jpg', 'real_00918.jpg', 'real_00919.jpg', 'real_00920.jpg', 'real_00921.jpg', 'real_00923.jpg', 'real_00924.jpg', 'real_00926.jpg', 'real_00927.jpg', 'real_00928.jpg', 'real_00929.jpg', 'real_00931.jpg', 'real_00932.jpg', 'real_00933.jpg', 'real_00935.jpg', 'real_00936.jpg', 'real_00937.jpg', 'real_00938.jpg', 'real_00939.jpg', 'real_00941.jpg', 'real_00942.jpg', 'real_00943.jpg', 'real_00944.jpg', 'real_00945.jpg', 'real_00946.jpg', 'real_00947.jpg', 'real_00948.jpg', 'real_00949.jpg', 'real_00950.jpg', 'real_00951.jpg', 'real_00952.jpg', 'real_00953.jpg', 'real_00954.jpg', 'real_00955.jpg', 'real_00956.jpg', 'real_00957.jpg', 'real_00958.jpg', 'real_00960.jpg', 'real_00961.jpg', 'real_00962.jpg', 'real_00964.jpg', 'real_00965.jpg', 'real_00967.jpg', 'real_00968.jpg', 'real_00969.jpg', 'real_00971.jpg', 'real_00972.jpg', 'real_00973.jpg', 'real_00975.jpg', 'real_00976.jpg', 'real_00977.jpg', 'real_00978.jpg', 'real_00979.jpg', 'real_00980.jpg', 'real_00981.jpg', 'real_00982.jpg', 'real_00983.jpg', 'real_00984.jpg', 'real_00985.jpg', 'real_00986.jpg', 'real_00988.jpg', 'real_00989.jpg', 'real_00990.jpg', 'real_00991.jpg', 'real_00992.jpg', 'real_00993.jpg', 'real_00994.jpg', 'real_00995.jpg', 'real_00996.jpg', 'real_00997.jpg', 'real_00998.jpg', 'real_01000.jpg', 'real_01001.jpg', 'real_01002.jpg', 'real_01004.jpg', 'real_01005.jpg', 'real_01006.jpg', 'real_01010.jpg', 'real_01011.jpg', 'real_01013.jpg', 'real_01014.jpg', 'real_01015.jpg', 'real_01016.jpg', 'real_01017.jpg', 'real_01019.jpg', 'real_01020.jpg', 'real_01021.jpg', 'real_01022.jpg', 'real_01023.jpg', 'real_01024.jpg', 'real_01025.jpg', 'real_01026.jpg', 'real_01027.jpg', 'real_01029.jpg', 'real_01030.jpg', 'real_01032.jpg', 'real_01033.jpg', 'real_01034.jpg', 'real_01035.jpg', 'real_01036.jpg', 'real_01038.jpg', 'real_01039.jpg', 'real_01040.jpg', 'real_01041.jpg', 'real_01042.jpg', 'real_01043.jpg', 'real_01044.jpg', 'real_01045.jpg', 'real_01046.jpg', 'real_01047.jpg', 'real_01048.jpg', 'real_01049.jpg', 'real_01050.jpg', 'real_01052.jpg', 'real_01054.jpg', 'real_01055.jpg', 'real_01056.jpg', 'real_01058.jpg', 'real_01059.jpg', 'real_01064.jpg', 'real_01065.jpg', 'real_01066.jpg', 'real_01067.jpg', 'real_01068.jpg', 'real_01069.jpg', 'real_01070.jpg', 'real_01071.jpg', 'real_01073.jpg', 'real_01074.jpg', 'real_01075.jpg', 'real_01076.jpg', 'real_01077.jpg', 'real_01078.jpg', 'real_01079.jpg', 'real_01080.jpg', 'real_01081.jpg']\n",
            "Folders inside Training Fake Directory: ['easy_100_1111.jpg', 'easy_101_0010.jpg', 'easy_102_0101.jpg', 'easy_104_1000.jpg', 'easy_105_1100.jpg', 'easy_106_0011.jpg', 'easy_107_1011.jpg', 'easy_108_1111.jpg', 'easy_109_1111.jpg', 'easy_10_0001.jpg', 'easy_110_0001.jpg', 'easy_111_1101.jpg', 'easy_112_1001.jpg', 'easy_113_0011.jpg', 'easy_115_0010.jpg', 'easy_117_0101.jpg', 'easy_118_1111.jpg', 'easy_119_0011.jpg', 'easy_11_1111.jpg', 'easy_120_0011.jpg', 'easy_121_0011.jpg', 'easy_122_1011.jpg', 'easy_123_0100.jpg', 'easy_126_0111.jpg', 'easy_127_0001.jpg', 'easy_128_0111.jpg', 'easy_129_1111.jpg', 'easy_12_1110.jpg', 'easy_132_0110.jpg', 'easy_133_1100.jpg', 'easy_134_0001.jpg', 'easy_135_0011.jpg', 'easy_136_0111.jpg', 'easy_137_0001.jpg', 'easy_13_1010.jpg', 'easy_140_1111.jpg', 'easy_141_0111.jpg', 'easy_142_1111.jpg', 'easy_143_0011.jpg', 'easy_144_1111.jpg', 'easy_146_1110.jpg', 'easy_147_1110.jpg', 'easy_148_0011.jpg', 'easy_149_1001.jpg', 'easy_14_1111.jpg', 'easy_150_0011.jpg', 'easy_151_1110.jpg', 'easy_152_0011.jpg', 'easy_153_1110.jpg', 'easy_154_1100.jpg', 'easy_155_0011.jpg', 'easy_156_0010.jpg', 'easy_158_0011.jpg', 'easy_159_1111.jpg', 'easy_15_0011.jpg', 'easy_160_0011.jpg', 'easy_162_0001.jpg', 'easy_167_0110.jpg', 'easy_168_0010.jpg', 'easy_169_1100.jpg', 'easy_16_1111.jpg', 'easy_170_0010.jpg', 'easy_171_1100.jpg', 'easy_173_0111.jpg', 'easy_175_0001.jpg', 'easy_176_1000.jpg', 'easy_177_1010.jpg', 'easy_178_1111.jpg', 'easy_179_0001.jpg', 'easy_181_1110.jpg', 'easy_182_0100.jpg', 'easy_186_1001.jpg', 'easy_187_1110.jpg', 'easy_188_1111.jpg', 'easy_189_1101.jpg', 'easy_18_0011.jpg', 'easy_190_0101.jpg', 'easy_191_0001.jpg', 'easy_195_1110.jpg', 'easy_196_0010.jpg', 'easy_197_1111.jpg', 'easy_198_0011.jpg', 'easy_199_1100.jpg', 'easy_19_0111.jpg', 'easy_200_1110.jpg', 'easy_201_0001.jpg', 'easy_202_0011.jpg', 'easy_203_0111.jpg', 'easy_204_0101.jpg', 'easy_205_1110.jpg', 'easy_207_1000.jpg', 'easy_208_1111.jpg', 'easy_209_0001.jpg', 'easy_212_0010.jpg', 'easy_214_0011.jpg', 'easy_215_1111.jpg', 'easy_216_1100.jpg', 'easy_217_1111.jpg', 'easy_218_0011.jpg', 'easy_219_1101.jpg', 'easy_21_0011.jpg', 'easy_220_1000.jpg', 'easy_221_0111.jpg', 'easy_222_0011.jpg', 'easy_223_0100.jpg', 'easy_225_0010.jpg', 'easy_226_1111.jpg', 'easy_227_1110.jpg', 'easy_229_1000.jpg', 'easy_22_1010.jpg', 'easy_233_0010.jpg', 'easy_234_1000.jpg', 'easy_236_1100.jpg', 'easy_238_1111.jpg', 'easy_239_1110.jpg', 'easy_23_1100.jpg', 'easy_240_1110.jpg', 'easy_24_0011.jpg', 'easy_25_0110.jpg', 'easy_27_1000.jpg', 'easy_28_1100.jpg', 'easy_2_1111.jpg', 'easy_30_1001.jpg', 'easy_31_0011.jpg', 'easy_32_1100.jpg', 'easy_34_1100.jpg', 'easy_35_0110.jpg', 'easy_37_0010.jpg', 'easy_38_0010.jpg', 'easy_39_0011.jpg', 'easy_3_1100.jpg', 'easy_41_0001.jpg', 'easy_42_0001.jpg', 'easy_43_1100.jpg', 'easy_44_0011.jpg', 'easy_45_1010.jpg', 'easy_48_0011.jpg', 'easy_49_1000.jpg', 'easy_4_0011.jpg', 'easy_50_0110.jpg', 'easy_52_1100.jpg', 'easy_53_0001.jpg', 'easy_54_1010.jpg', 'easy_55_0011.jpg', 'easy_56_1110.jpg', 'easy_57_0010.jpg', 'easy_58_0011.jpg', 'easy_59_0010.jpg', 'easy_5_1100.jpg', 'easy_60_1111.jpg', 'easy_62_0001.jpg', 'easy_63_1110.jpg', 'easy_64_1111.jpg', 'easy_65_1111.jpg', 'easy_67_0101.jpg', 'easy_6_1110.jpg', 'easy_70_0011.jpg', 'easy_71_1100.jpg', 'easy_72_1111.jpg', 'easy_73_1110.jpg', 'easy_76_1111.jpg', 'easy_79_0001.jpg', 'easy_7_1100.jpg', 'easy_80_0001.jpg', 'easy_81_1111.jpg', 'easy_82_0001.jpg', 'easy_83_1110.jpg', 'easy_85_1111.jpg', 'easy_88_0011.jpg', 'easy_89_0010.jpg', 'easy_8_0010.jpg', 'easy_90_1111.jpg', 'easy_92_0011.jpg', 'easy_94_0001.jpg', 'easy_95_0101.jpg', 'easy_96_0011.jpg', 'easy_97_1111.jpg', 'easy_98_0001.jpg', 'easy_99_0101.jpg', 'easy_9_1010.jpg', 'hard_100_1111.jpg', 'hard_101_0011.jpg', 'hard_102_1001.jpg', 'hard_103_1101.jpg', 'hard_104_1001.jpg', 'hard_105_1011.jpg', 'hard_106_1100.jpg', 'hard_107_1111.jpg', 'hard_108_1111.jpg', 'hard_109_1100.jpg', 'hard_10_1111.jpg', 'hard_111_1111.jpg', 'hard_112_1111.jpg', 'hard_113_0011.jpg', 'hard_114_1111.jpg', 'hard_115_1110.jpg', 'hard_116_1101.jpg', 'hard_117_1110.jpg', 'hard_119_1100.jpg', 'hard_11_1100.jpg', 'hard_122_1100.jpg', 'hard_123_1111.jpg', 'hard_124_1100.jpg', 'hard_126_0111.jpg', 'hard_127_0011.jpg', 'hard_128_1111.jpg', 'hard_129_1111.jpg', 'hard_12_1101.jpg', 'hard_130_1111.jpg', 'hard_131_1000.jpg', 'hard_132_0111.jpg', 'hard_135_1101.jpg', 'hard_136_1101.jpg', 'hard_137_1001.jpg', 'hard_138_1101.jpg', 'hard_139_1011.jpg', 'hard_13_1111.jpg', 'hard_141_0100.jpg', 'hard_143_0100.jpg', 'hard_145_1100.jpg', 'hard_146_0110.jpg', 'hard_147_1111.jpg', 'hard_148_1010.jpg', 'hard_149_0011.jpg', 'hard_14_1111.jpg', 'hard_150_1000.jpg', 'hard_151_0101.jpg', 'hard_153_1011.jpg', 'hard_154_1100.jpg', 'hard_155_0010.jpg', 'hard_156_1111.jpg', 'hard_158_0011.jpg', 'hard_159_0100.jpg', 'hard_15_1111.jpg', 'hard_161_1100.jpg', 'hard_162_0010.jpg', 'hard_163_0011.jpg', 'hard_165_1000.jpg', 'hard_166_1110.jpg', 'hard_167_0011.jpg', 'hard_169_0111.jpg', 'hard_16_1111.jpg', 'hard_170_0111.jpg', 'hard_172_1100.jpg', 'hard_173_1110.jpg', 'hard_174_1111.jpg', 'hard_175_1100.jpg', 'hard_176_0011.jpg', 'hard_177_1011.jpg', 'hard_17_1010.jpg', 'hard_180_0011.jpg', 'hard_182_0011.jpg', 'hard_183_1101.jpg', 'hard_184_0011.jpg', 'hard_185_1100.jpg', 'hard_186_0011.jpg', 'hard_187_0100.jpg', 'hard_188_0100.jpg', 'hard_189_0011.jpg', 'hard_18_1111.jpg', 'hard_190_1111.jpg', 'hard_191_0011.jpg', 'hard_192_1111.jpg', 'hard_193_1111.jpg', 'hard_194_0110.jpg', 'hard_196_1101.jpg', 'hard_197_1100.jpg', 'hard_198_1100.jpg', 'hard_199_0011.jpg', 'hard_1_1111.jpg', 'hard_200_1111.jpg', 'hard_203_0010.jpg', 'hard_204_0011.jpg', 'hard_205_0011.jpg', 'hard_206_0001.jpg', 'hard_207_1100.jpg', 'hard_208_0001.jpg', 'hard_209_1011.jpg', 'hard_20_1111.jpg', 'hard_210_1100.jpg', 'hard_211_0110.jpg', 'hard_213_0101.jpg', 'hard_214_1011.jpg', 'hard_216_0111.jpg', 'hard_218_0100.jpg', 'hard_219_1101.jpg', 'hard_21_1101.jpg', 'hard_220_1111.jpg', 'hard_222_1001.jpg', 'hard_223_1111.jpg', 'hard_224_0111.jpg', 'hard_225_0011.jpg', 'hard_227_1100.jpg', 'hard_22_1111.jpg', 'hard_230_1110.jpg', 'hard_231_1111.jpg', 'hard_232_0001.jpg', 'hard_234_1100.jpg', 'hard_235_0001.jpg', 'hard_236_1001.jpg', 'hard_238_1000.jpg', 'hard_239_1000.jpg', 'hard_240_1101.jpg', 'hard_24_1100.jpg', 'hard_25_1111.jpg', 'hard_26_0011.jpg', 'hard_29_1111.jpg', 'hard_31_0011.jpg', 'hard_32_1111.jpg', 'hard_33_1011.jpg', 'hard_35_1111.jpg', 'hard_37_1111.jpg', 'hard_38_1110.jpg', 'hard_39_1111.jpg', 'hard_3_1111.jpg', 'hard_40_1111.jpg', 'hard_41_1111.jpg', 'hard_42_1111.jpg', 'hard_43_1111.jpg', 'hard_44_1111.jpg', 'hard_45_1111.jpg', 'hard_46_0011.jpg', 'hard_47_1100.jpg', 'hard_48_0011.jpg', 'hard_49_0010.jpg', 'hard_4_1111.jpg', 'hard_50_1101.jpg', 'hard_51_1111.jpg', 'hard_52_1111.jpg', 'hard_53_1100.jpg', 'hard_54_0001.jpg', 'hard_57_0110.jpg', 'hard_58_0001.jpg', 'hard_5_1111.jpg', 'hard_61_0011.jpg', 'hard_63_1101.jpg', 'hard_64_0010.jpg', 'hard_65_0101.jpg', 'hard_66_1111.jpg', 'hard_67_0001.jpg', 'hard_68_1100.jpg', 'hard_6_1110.jpg', 'hard_71_1100.jpg', 'hard_72_1100.jpg', 'hard_73_0011.jpg', 'hard_74_0011.jpg', 'hard_75_0011.jpg', 'hard_76_1100.jpg', 'hard_77_1100.jpg', 'hard_78_1101.jpg', 'hard_79_1110.jpg', 'hard_7_1111.jpg', 'hard_80_0100.jpg', 'hard_81_1101.jpg', 'hard_82_0011.jpg', 'hard_83_1111.jpg', 'hard_85_1111.jpg', 'hard_86_1100.jpg', 'hard_87_1111.jpg', 'hard_88_1111.jpg', 'hard_89_1110.jpg', 'hard_8_1000.jpg', 'hard_91_1100.jpg', 'hard_92_1001.jpg', 'hard_93_1111.jpg', 'hard_94_1111.jpg', 'hard_95_0001.jpg', 'hard_96_1110.jpg', 'hard_97_1001.jpg', 'hard_98_1101.jpg', 'hard_99_1111.jpg', 'hard_9_1111.jpg', 'mid_100_1110.jpg', 'mid_101_1111.jpg', 'mid_102_1100.jpg', 'mid_103_1111.jpg', 'mid_104_1100.jpg', 'mid_105_1101.jpg', 'mid_106_0001.jpg', 'mid_107_0010.jpg', 'mid_108_1110.jpg', 'mid_109_1111.jpg', 'mid_10_1111.jpg', 'mid_110_1100.jpg', 'mid_112_0001.jpg', 'mid_113_1100.jpg', 'mid_114_1110.jpg', 'mid_115_0011.jpg', 'mid_117_1111.jpg', 'mid_118_1000.jpg', 'mid_119_1111.jpg', 'mid_121_1110.jpg', 'mid_122_1100.jpg', 'mid_124_1110.jpg', 'mid_125_1111.jpg', 'mid_127_0011.jpg', 'mid_129_0101.jpg', 'mid_12_1111.jpg', 'mid_130_1111.jpg', 'mid_131_1111.jpg', 'mid_132_0001.jpg', 'mid_134_1010.jpg', 'mid_135_1110.jpg', 'mid_137_1011.jpg', 'mid_138_0011.jpg', 'mid_139_1111.jpg', 'mid_13_1111.jpg', 'mid_140_1111.jpg', 'mid_141_1110.jpg', 'mid_142_1100.jpg', 'mid_143_1100.jpg', 'mid_144_1110.jpg', 'mid_145_1111.jpg', 'mid_146_1111.jpg', 'mid_147_1110.jpg', 'mid_149_0011.jpg', 'mid_14_1101.jpg', 'mid_150_1111.jpg', 'mid_151_1100.jpg', 'mid_152_1100.jpg', 'mid_153_1111.jpg', 'mid_154_1111.jpg', 'mid_155_1100.jpg', 'mid_156_1111.jpg', 'mid_157_1111.jpg', 'mid_158_1010.jpg', 'mid_159_1111.jpg', 'mid_15_1111.jpg', 'mid_160_1110.jpg', 'mid_161_0110.jpg', 'mid_162_0011.jpg', 'mid_163_1001.jpg', 'mid_164_0011.jpg', 'mid_165_0101.jpg', 'mid_166_1100.jpg', 'mid_167_1100.jpg', 'mid_168_1111.jpg', 'mid_16_1111.jpg', 'mid_170_1111.jpg', 'mid_171_1100.jpg', 'mid_172_1111.jpg', 'mid_173_1110.jpg', 'mid_174_1111.jpg', 'mid_175_1111.jpg', 'mid_177_1111.jpg', 'mid_178_1111.jpg', 'mid_17_1111.jpg', 'mid_180_1110.jpg', 'mid_181_0011.jpg', 'mid_182_1111.jpg', 'mid_184_1101.jpg', 'mid_186_1100.jpg', 'mid_187_1101.jpg', 'mid_188_1111.jpg', 'mid_189_0011.jpg', 'mid_18_1111.jpg', 'mid_190_1111.jpg', 'mid_192_1111.jpg', 'mid_193_1111.jpg', 'mid_194_1111.jpg', 'mid_195_1111.jpg', 'mid_196_1100.jpg', 'mid_197_1110.jpg', 'mid_198_1111.jpg', 'mid_199_0011.jpg', 'mid_19_1000.jpg', 'mid_1_1101.jpg', 'mid_200_1111.jpg', 'mid_201_1111.jpg', 'mid_202_1110.jpg', 'mid_203_1111.jpg', 'mid_204_1111.jpg', 'mid_205_0011.jpg', 'mid_207_1111.jpg', 'mid_210_0011.jpg', 'mid_211_1100.jpg', 'mid_212_1111.jpg', 'mid_213_1111.jpg', 'mid_215_0011.jpg', 'mid_216_1011.jpg', 'mid_218_1011.jpg', 'mid_219_1111.jpg', 'mid_21_0011.jpg', 'mid_220_0011.jpg', 'mid_221_1100.jpg', 'mid_222_1110.jpg', 'mid_223_1111.jpg', 'mid_224_1111.jpg', 'mid_225_0111.jpg', 'mid_226_1111.jpg', 'mid_227_1111.jpg', 'mid_228_1111.jpg', 'mid_229_1111.jpg', 'mid_22_1101.jpg', 'mid_230_1110.jpg', 'mid_233_1111.jpg', 'mid_235_1100.jpg', 'mid_236_1111.jpg', 'mid_237_1111.jpg', 'mid_238_1111.jpg', 'mid_239_1011.jpg', 'mid_240_1100.jpg', 'mid_241_1111.jpg', 'mid_244_1110.jpg', 'mid_245_1100.jpg', 'mid_246_0011.jpg', 'mid_247_1111.jpg', 'mid_24_1111.jpg', 'mid_250_1111.jpg', 'mid_251_1111.jpg', 'mid_252_1101.jpg', 'mid_253_0101.jpg', 'mid_254_1111.jpg', 'mid_255_0011.jpg', 'mid_257_1111.jpg', 'mid_259_1101.jpg', 'mid_25_1111.jpg', 'mid_260_1111.jpg', 'mid_261_1101.jpg', 'mid_262_1111.jpg', 'mid_263_1100.jpg', 'mid_264_1101.jpg', 'mid_265_1111.jpg', 'mid_266_1101.jpg', 'mid_268_0010.jpg', 'mid_269_1100.jpg', 'mid_26_1101.jpg', 'mid_271_1111.jpg', 'mid_272_1010.jpg', 'mid_273_1101.jpg', 'mid_276_0011.jpg', 'mid_278_1101.jpg', 'mid_279_1111.jpg', 'mid_281_1111.jpg', 'mid_283_0111.jpg', 'mid_284_1110.jpg', 'mid_285_1111.jpg', 'mid_286_1100.jpg', 'mid_287_0001.jpg', 'mid_288_1101.jpg', 'mid_289_1101.jpg', 'mid_28_1111.jpg', 'mid_290_1100.jpg', 'mid_291_1100.jpg', 'mid_292_1000.jpg', 'mid_293_1101.jpg', 'mid_296_1111.jpg', 'mid_297_0010.jpg', 'mid_298_0001.jpg', 'mid_299_1100.jpg', 'mid_29_1111.jpg', 'mid_2_1101.jpg', 'mid_301_0101.jpg', 'mid_302_1100.jpg', 'mid_303_1100.jpg', 'mid_304_1111.jpg', 'mid_305_1101.jpg', 'mid_306_1111.jpg', 'mid_307_1101.jpg', 'mid_308_1111.jpg', 'mid_309_1111.jpg', 'mid_30_1110.jpg', 'mid_311_0011.jpg', 'mid_312_1111.jpg', 'mid_313_1101.jpg', 'mid_314_1101.jpg', 'mid_315_1101.jpg', 'mid_316_1111.jpg', 'mid_318_1111.jpg', 'mid_319_1111.jpg', 'mid_31_1111.jpg', 'mid_320_1111.jpg', 'mid_321_1110.jpg', 'mid_323_1101.jpg', 'mid_324_1111.jpg', 'mid_325_0011.jpg', 'mid_327_0111.jpg', 'mid_328_0011.jpg', 'mid_329_1110.jpg', 'mid_32_1111.jpg', 'mid_330_1111.jpg', 'mid_331_0011.jpg', 'mid_332_1111.jpg', 'mid_334_1111.jpg', 'mid_335_1100.jpg', 'mid_336_1111.jpg', 'mid_337_1111.jpg', 'mid_338_1100.jpg', 'mid_339_1100.jpg', 'mid_340_1111.jpg', 'mid_342_1110.jpg', 'mid_343_1111.jpg', 'mid_344_0010.jpg', 'mid_345_1111.jpg', 'mid_346_0011.jpg', 'mid_348_1100.jpg', 'mid_350_0100.jpg', 'mid_351_0110.jpg', 'mid_352_1111.jpg', 'mid_353_0011.jpg', 'mid_354_1110.jpg', 'mid_355_1011.jpg', 'mid_356_1110.jpg', 'mid_357_0011.jpg', 'mid_35_1101.jpg', 'mid_360_1100.jpg', 'mid_361_0001.jpg', 'mid_363_1101.jpg', 'mid_364_1111.jpg', 'mid_365_1111.jpg', 'mid_366_1111.jpg', 'mid_367_0010.jpg', 'mid_368_0110.jpg', 'mid_369_1110.jpg', 'mid_36_1100.jpg', 'mid_370_1111.jpg', 'mid_371_0011.jpg', 'mid_372_0011.jpg', 'mid_373_1111.jpg', 'mid_374_0011.jpg', 'mid_375_1110.jpg', 'mid_376_0001.jpg', 'mid_377_0100.jpg', 'mid_378_1110.jpg', 'mid_379_1100.jpg', 'mid_37_1111.jpg', 'mid_381_1101.jpg', 'mid_382_0011.jpg', 'mid_383_1100.jpg', 'mid_386_1110.jpg', 'mid_387_1100.jpg', 'mid_388_1111.jpg', 'mid_389_1101.jpg', 'mid_390_0011.jpg', 'mid_391_1110.jpg', 'mid_392_1111.jpg', 'mid_394_1111.jpg', 'mid_395_1110.jpg', 'mid_396_1011.jpg', 'mid_397_1111.jpg', 'mid_398_0011.jpg', 'mid_399_0011.jpg', 'mid_39_1111.jpg', 'mid_401_0111.jpg', 'mid_402_0011.jpg', 'mid_403_1111.jpg', 'mid_404_0011.jpg', 'mid_407_1111.jpg', 'mid_408_1111.jpg', 'mid_409_1101.jpg', 'mid_40_1111.jpg', 'mid_410_1111.jpg', 'mid_411_1111.jpg', 'mid_412_0011.jpg', 'mid_413_1111.jpg', 'mid_414_0011.jpg', 'mid_415_1111.jpg', 'mid_416_1111.jpg', 'mid_418_1101.jpg', 'mid_419_0011.jpg', 'mid_41_1111.jpg', 'mid_420_1101.jpg', 'mid_421_0011.jpg', 'mid_422_0011.jpg', 'mid_423_1101.jpg', 'mid_424_1111.jpg', 'mid_425_1111.jpg', 'mid_426_1111.jpg', 'mid_427_1010.jpg', 'mid_428_0001.jpg', 'mid_429_1110.jpg', 'mid_42_1111.jpg', 'mid_430_1111.jpg', 'mid_431_0001.jpg', 'mid_432_1111.jpg', 'mid_433_0011.jpg', 'mid_434_1110.jpg', 'mid_435_1111.jpg', 'mid_436_1111.jpg', 'mid_437_1101.jpg', 'mid_438_0010.jpg', 'mid_439_1000.jpg', 'mid_43_1111.jpg', 'mid_441_0011.jpg', 'mid_442_0111.jpg', 'mid_443_0011.jpg', 'mid_444_1111.jpg', 'mid_445_1111.jpg', 'mid_446_0011.jpg', 'mid_448_0011.jpg', 'mid_449_1111.jpg', 'mid_44_1111.jpg', 'mid_450_1101.jpg', 'mid_451_1111.jpg', 'mid_452_1111.jpg', 'mid_453_1111.jpg', 'mid_454_1111.jpg', 'mid_455_0101.jpg', 'mid_457_1100.jpg', 'mid_458_1111.jpg', 'mid_459_1001.jpg', 'mid_45_0010.jpg', 'mid_462_1101.jpg', 'mid_463_0100.jpg', 'mid_464_1111.jpg', 'mid_465_1111.jpg', 'mid_466_1111.jpg', 'mid_467_1111.jpg', 'mid_468_1110.jpg', 'mid_469_1111.jpg', 'mid_46_1111.jpg', 'mid_471_1111.jpg', 'mid_472_1101.jpg', 'mid_473_0011.jpg', 'mid_474_1110.jpg', 'mid_476_1111.jpg', 'mid_478_1101.jpg', 'mid_479_1111.jpg', 'mid_47_1110.jpg', 'mid_48_1111.jpg', 'mid_49_1111.jpg', 'mid_4_1111.jpg', 'mid_50_1111.jpg', 'mid_51_1111.jpg', 'mid_52_1111.jpg', 'mid_53_1100.jpg', 'mid_54_1111.jpg', 'mid_56_1111.jpg', 'mid_57_1111.jpg', 'mid_58_1100.jpg', 'mid_59_1111.jpg', 'mid_5_0011.jpg', 'mid_60_1101.jpg', 'mid_61_1111.jpg', 'mid_62_1110.jpg', 'mid_63_1111.jpg', 'mid_64_1100.jpg', 'mid_65_1111.jpg', 'mid_68_1111.jpg', 'mid_69_1111.jpg', 'mid_6_1111.jpg', 'mid_70_1111.jpg', 'mid_71_1111.jpg', 'mid_72_1111.jpg', 'mid_73_1110.jpg', 'mid_74_1111.jpg', 'mid_75_1111.jpg', 'mid_76_1111.jpg', 'mid_77_1110.jpg', 'mid_78_1101.jpg', 'mid_7_1100.jpg', 'mid_80_1111.jpg', 'mid_82_1111.jpg', 'mid_84_1111.jpg', 'mid_85_0011.jpg', 'mid_86_1111.jpg', 'mid_87_1111.jpg', 'mid_88_1110.jpg', 'mid_89_1111.jpg', 'mid_8_1111.jpg', 'mid_91_1111.jpg', 'mid_93_1111.jpg', 'mid_94_1111.jpg', 'mid_95_1100.jpg', 'mid_96_1111.jpg', 'mid_97_1111.jpg', 'mid_98_1111.jpg', 'mid_99_1100.jpg']\n"
          ]
        }
      ]
    },
    {
      "cell_type": "code",
      "source": [
        "import os\n",
        "import shutil\n",
        "\n",
        "# Define old and new paths\n",
        "old_real_dir = \"/content/drive/MyDrive/archive/real_and_fake_face/training_real\"\n",
        "old_fake_dir = \"/content/drive/MyDrive/archive/real_and_fake_face/training_fake\"\n",
        "new_train_dir = \"/content/drive/MyDrive/archive/real_and_fake_face/training\"\n",
        "\n",
        "# Create new training directory\n",
        "os.makedirs(new_train_dir, exist_ok=True)\n",
        "\n",
        "# Move real and fake folders inside \"training\"\n",
        "shutil.move(old_real_dir, new_train_dir + \"/real\")\n",
        "shutil.move(old_fake_dir, new_train_dir + \"/fake\")\n",
        "\n",
        "print(\"✅ Training folders reorganized successfully!\")\n"
      ],
      "metadata": {
        "colab": {
          "base_uri": "https://localhost:8080/"
        },
        "id": "_TX_lqTQPVy4",
        "outputId": "33af7263-f9d7-4367-9de1-2c82f122c2ea"
      },
      "execution_count": 63,
      "outputs": [
        {
          "output_type": "stream",
          "name": "stdout",
          "text": [
            "✅ Training folders reorganized successfully!\n"
          ]
        }
      ]
    },
    {
      "cell_type": "code",
      "source": [
        "from tensorflow.keras.preprocessing.image import ImageDataGenerator\n",
        "\n",
        "# Augment training images\n",
        "train_datagen = ImageDataGenerator(\n",
        "    rescale=1./255,\n",
        "    rotation_range=30,\n",
        "    width_shift_range=0.2,\n",
        "    height_shift_range=0.2,\n",
        "    shear_range=0.2,\n",
        "    zoom_range=0.2,\n",
        "    horizontal_flip=True,\n",
        "    brightness_range=[0.8, 1.2],\n",
        "    fill_mode='nearest'\n",
        ")\n",
        "\n",
        "# Only rescale validation images (no augmentation)\n",
        "val_datagen = ImageDataGenerator(rescale=1./255)\n",
        "\n",
        "# Load training data\n",
        "train_generator = train_datagen.flow_from_directory(\n",
        "    \"/content/drive/MyDrive/archive/real_and_fake_face/\",\n",
        "    target_size=(128, 128),\n",
        "    batch_size=32,\n",
        "    class_mode=\"binary\"\n",
        ")\n",
        "\n",
        "# Load validation data\n",
        "val_generator = val_datagen.flow_from_directory(\n",
        "    \"/content/drive/MyDrive/archive/real_and_fake_face/\",\n",
        "    target_size=(128, 128),\n",
        "    batch_size=32,\n",
        "    class_mode=\"binary\"\n",
        ")\n"
      ],
      "metadata": {
        "colab": {
          "base_uri": "https://localhost:8080/"
        },
        "id": "fMC2u92xRlwi",
        "outputId": "49851611-1b82-451b-841b-1a91a9a7fb51"
      },
      "execution_count": 70,
      "outputs": [
        {
          "output_type": "stream",
          "name": "stdout",
          "text": [
            "Found 2041 images belonging to 2 classes.\n",
            "Found 2041 images belonging to 2 classes.\n"
          ]
        }
      ]
    },
    {
      "cell_type": "code",
      "source": [
        "from tensorflow.keras.models import Sequential\n",
        "from tensorflow.keras.layers import Conv2D, MaxPooling2D, Flatten, Dense, Dropout, BatchNormalization\n",
        "\n",
        "# Define CNN model\n",
        "model = Sequential([\n",
        "    Conv2D(32, (3,3), activation=\"relu\", input_shape=(128,128,3)),\n",
        "    BatchNormalization(),\n",
        "    MaxPooling2D(2,2),\n",
        "\n",
        "    Conv2D(64, (3,3), activation=\"relu\"),\n",
        "    BatchNormalization(),\n",
        "    MaxPooling2D(2,2),\n",
        "\n",
        "    Conv2D(128, (3,3), activation=\"relu\"),\n",
        "    BatchNormalization(),\n",
        "    MaxPooling2D(2,2),\n",
        "\n",
        "    Conv2D(256, (3,3), activation=\"relu\"),\n",
        "    BatchNormalization(),\n",
        "    MaxPooling2D(2,2),\n",
        "\n",
        "    Flatten(),\n",
        "    Dense(512, activation=\"relu\"),\n",
        "    Dropout(0.5),\n",
        "    Dense(1, activation=\"sigmoid\")  # Binary classification (Real vs Fake)\n",
        "])\n",
        "\n",
        "# Compile model\n",
        "from tensorflow.keras.optimizers import Adam\n",
        "model.compile(optimizer=Adam(learning_rate=0.0001), loss=\"binary_crossentropy\", metrics=[\"accuracy\"])\n",
        "\n",
        "# Print model summary\n",
        "model.summary()\n"
      ],
      "metadata": {
        "colab": {
          "base_uri": "https://localhost:8080/",
          "height": 705
        },
        "id": "pW5zAPg4Rss9",
        "outputId": "f4a2b96b-0c4e-4041-9a02-252750fa050c"
      },
      "execution_count": 71,
      "outputs": [
        {
          "output_type": "display_data",
          "data": {
            "text/plain": [
              "\u001b[1mModel: \"sequential_3\"\u001b[0m\n"
            ],
            "text/html": [
              "<pre style=\"white-space:pre;overflow-x:auto;line-height:normal;font-family:Menlo,'DejaVu Sans Mono',consolas,'Courier New',monospace\"><span style=\"font-weight: bold\">Model: \"sequential_3\"</span>\n",
              "</pre>\n"
            ]
          },
          "metadata": {}
        },
        {
          "output_type": "display_data",
          "data": {
            "text/plain": [
              "┏━━━━━━━━━━━━━━━━━━━━━━━━━━━━━━━━━━━━━━┳━━━━━━━━━━━━━━━━━━━━━━━━━━━━━┳━━━━━━━━━━━━━━━━━┓\n",
              "┃\u001b[1m \u001b[0m\u001b[1mLayer (type)                        \u001b[0m\u001b[1m \u001b[0m┃\u001b[1m \u001b[0m\u001b[1mOutput Shape               \u001b[0m\u001b[1m \u001b[0m┃\u001b[1m \u001b[0m\u001b[1m        Param #\u001b[0m\u001b[1m \u001b[0m┃\n",
              "┡━━━━━━━━━━━━━━━━━━━━━━━━━━━━━━━━━━━━━━╇━━━━━━━━━━━━━━━━━━━━━━━━━━━━━╇━━━━━━━━━━━━━━━━━┩\n",
              "│ conv2d_10 (\u001b[38;5;33mConv2D\u001b[0m)                   │ (\u001b[38;5;45mNone\u001b[0m, \u001b[38;5;34m126\u001b[0m, \u001b[38;5;34m126\u001b[0m, \u001b[38;5;34m32\u001b[0m)        │             \u001b[38;5;34m896\u001b[0m │\n",
              "├──────────────────────────────────────┼─────────────────────────────┼─────────────────┤\n",
              "│ batch_normalization_4                │ (\u001b[38;5;45mNone\u001b[0m, \u001b[38;5;34m126\u001b[0m, \u001b[38;5;34m126\u001b[0m, \u001b[38;5;34m32\u001b[0m)        │             \u001b[38;5;34m128\u001b[0m │\n",
              "│ (\u001b[38;5;33mBatchNormalization\u001b[0m)                 │                             │                 │\n",
              "├──────────────────────────────────────┼─────────────────────────────┼─────────────────┤\n",
              "│ max_pooling2d_10 (\u001b[38;5;33mMaxPooling2D\u001b[0m)      │ (\u001b[38;5;45mNone\u001b[0m, \u001b[38;5;34m63\u001b[0m, \u001b[38;5;34m63\u001b[0m, \u001b[38;5;34m32\u001b[0m)          │               \u001b[38;5;34m0\u001b[0m │\n",
              "├──────────────────────────────────────┼─────────────────────────────┼─────────────────┤\n",
              "│ conv2d_11 (\u001b[38;5;33mConv2D\u001b[0m)                   │ (\u001b[38;5;45mNone\u001b[0m, \u001b[38;5;34m61\u001b[0m, \u001b[38;5;34m61\u001b[0m, \u001b[38;5;34m64\u001b[0m)          │          \u001b[38;5;34m18,496\u001b[0m │\n",
              "├──────────────────────────────────────┼─────────────────────────────┼─────────────────┤\n",
              "│ batch_normalization_5                │ (\u001b[38;5;45mNone\u001b[0m, \u001b[38;5;34m61\u001b[0m, \u001b[38;5;34m61\u001b[0m, \u001b[38;5;34m64\u001b[0m)          │             \u001b[38;5;34m256\u001b[0m │\n",
              "│ (\u001b[38;5;33mBatchNormalization\u001b[0m)                 │                             │                 │\n",
              "├──────────────────────────────────────┼─────────────────────────────┼─────────────────┤\n",
              "│ max_pooling2d_11 (\u001b[38;5;33mMaxPooling2D\u001b[0m)      │ (\u001b[38;5;45mNone\u001b[0m, \u001b[38;5;34m30\u001b[0m, \u001b[38;5;34m30\u001b[0m, \u001b[38;5;34m64\u001b[0m)          │               \u001b[38;5;34m0\u001b[0m │\n",
              "├──────────────────────────────────────┼─────────────────────────────┼─────────────────┤\n",
              "│ conv2d_12 (\u001b[38;5;33mConv2D\u001b[0m)                   │ (\u001b[38;5;45mNone\u001b[0m, \u001b[38;5;34m28\u001b[0m, \u001b[38;5;34m28\u001b[0m, \u001b[38;5;34m128\u001b[0m)         │          \u001b[38;5;34m73,856\u001b[0m │\n",
              "├──────────────────────────────────────┼─────────────────────────────┼─────────────────┤\n",
              "│ batch_normalization_6                │ (\u001b[38;5;45mNone\u001b[0m, \u001b[38;5;34m28\u001b[0m, \u001b[38;5;34m28\u001b[0m, \u001b[38;5;34m128\u001b[0m)         │             \u001b[38;5;34m512\u001b[0m │\n",
              "│ (\u001b[38;5;33mBatchNormalization\u001b[0m)                 │                             │                 │\n",
              "├──────────────────────────────────────┼─────────────────────────────┼─────────────────┤\n",
              "│ max_pooling2d_12 (\u001b[38;5;33mMaxPooling2D\u001b[0m)      │ (\u001b[38;5;45mNone\u001b[0m, \u001b[38;5;34m14\u001b[0m, \u001b[38;5;34m14\u001b[0m, \u001b[38;5;34m128\u001b[0m)         │               \u001b[38;5;34m0\u001b[0m │\n",
              "├──────────────────────────────────────┼─────────────────────────────┼─────────────────┤\n",
              "│ conv2d_13 (\u001b[38;5;33mConv2D\u001b[0m)                   │ (\u001b[38;5;45mNone\u001b[0m, \u001b[38;5;34m12\u001b[0m, \u001b[38;5;34m12\u001b[0m, \u001b[38;5;34m256\u001b[0m)         │         \u001b[38;5;34m295,168\u001b[0m │\n",
              "├──────────────────────────────────────┼─────────────────────────────┼─────────────────┤\n",
              "│ batch_normalization_7                │ (\u001b[38;5;45mNone\u001b[0m, \u001b[38;5;34m12\u001b[0m, \u001b[38;5;34m12\u001b[0m, \u001b[38;5;34m256\u001b[0m)         │           \u001b[38;5;34m1,024\u001b[0m │\n",
              "│ (\u001b[38;5;33mBatchNormalization\u001b[0m)                 │                             │                 │\n",
              "├──────────────────────────────────────┼─────────────────────────────┼─────────────────┤\n",
              "│ max_pooling2d_13 (\u001b[38;5;33mMaxPooling2D\u001b[0m)      │ (\u001b[38;5;45mNone\u001b[0m, \u001b[38;5;34m6\u001b[0m, \u001b[38;5;34m6\u001b[0m, \u001b[38;5;34m256\u001b[0m)           │               \u001b[38;5;34m0\u001b[0m │\n",
              "├──────────────────────────────────────┼─────────────────────────────┼─────────────────┤\n",
              "│ flatten_3 (\u001b[38;5;33mFlatten\u001b[0m)                  │ (\u001b[38;5;45mNone\u001b[0m, \u001b[38;5;34m9216\u001b[0m)                │               \u001b[38;5;34m0\u001b[0m │\n",
              "├──────────────────────────────────────┼─────────────────────────────┼─────────────────┤\n",
              "│ dense_6 (\u001b[38;5;33mDense\u001b[0m)                      │ (\u001b[38;5;45mNone\u001b[0m, \u001b[38;5;34m512\u001b[0m)                 │       \u001b[38;5;34m4,719,104\u001b[0m │\n",
              "├──────────────────────────────────────┼─────────────────────────────┼─────────────────┤\n",
              "│ dropout_3 (\u001b[38;5;33mDropout\u001b[0m)                  │ (\u001b[38;5;45mNone\u001b[0m, \u001b[38;5;34m512\u001b[0m)                 │               \u001b[38;5;34m0\u001b[0m │\n",
              "├──────────────────────────────────────┼─────────────────────────────┼─────────────────┤\n",
              "│ dense_7 (\u001b[38;5;33mDense\u001b[0m)                      │ (\u001b[38;5;45mNone\u001b[0m, \u001b[38;5;34m1\u001b[0m)                   │             \u001b[38;5;34m513\u001b[0m │\n",
              "└──────────────────────────────────────┴─────────────────────────────┴─────────────────┘\n"
            ],
            "text/html": [
              "<pre style=\"white-space:pre;overflow-x:auto;line-height:normal;font-family:Menlo,'DejaVu Sans Mono',consolas,'Courier New',monospace\">┏━━━━━━━━━━━━━━━━━━━━━━━━━━━━━━━━━━━━━━┳━━━━━━━━━━━━━━━━━━━━━━━━━━━━━┳━━━━━━━━━━━━━━━━━┓\n",
              "┃<span style=\"font-weight: bold\"> Layer (type)                         </span>┃<span style=\"font-weight: bold\"> Output Shape                </span>┃<span style=\"font-weight: bold\">         Param # </span>┃\n",
              "┡━━━━━━━━━━━━━━━━━━━━━━━━━━━━━━━━━━━━━━╇━━━━━━━━━━━━━━━━━━━━━━━━━━━━━╇━━━━━━━━━━━━━━━━━┩\n",
              "│ conv2d_10 (<span style=\"color: #0087ff; text-decoration-color: #0087ff\">Conv2D</span>)                   │ (<span style=\"color: #00d7ff; text-decoration-color: #00d7ff\">None</span>, <span style=\"color: #00af00; text-decoration-color: #00af00\">126</span>, <span style=\"color: #00af00; text-decoration-color: #00af00\">126</span>, <span style=\"color: #00af00; text-decoration-color: #00af00\">32</span>)        │             <span style=\"color: #00af00; text-decoration-color: #00af00\">896</span> │\n",
              "├──────────────────────────────────────┼─────────────────────────────┼─────────────────┤\n",
              "│ batch_normalization_4                │ (<span style=\"color: #00d7ff; text-decoration-color: #00d7ff\">None</span>, <span style=\"color: #00af00; text-decoration-color: #00af00\">126</span>, <span style=\"color: #00af00; text-decoration-color: #00af00\">126</span>, <span style=\"color: #00af00; text-decoration-color: #00af00\">32</span>)        │             <span style=\"color: #00af00; text-decoration-color: #00af00\">128</span> │\n",
              "│ (<span style=\"color: #0087ff; text-decoration-color: #0087ff\">BatchNormalization</span>)                 │                             │                 │\n",
              "├──────────────────────────────────────┼─────────────────────────────┼─────────────────┤\n",
              "│ max_pooling2d_10 (<span style=\"color: #0087ff; text-decoration-color: #0087ff\">MaxPooling2D</span>)      │ (<span style=\"color: #00d7ff; text-decoration-color: #00d7ff\">None</span>, <span style=\"color: #00af00; text-decoration-color: #00af00\">63</span>, <span style=\"color: #00af00; text-decoration-color: #00af00\">63</span>, <span style=\"color: #00af00; text-decoration-color: #00af00\">32</span>)          │               <span style=\"color: #00af00; text-decoration-color: #00af00\">0</span> │\n",
              "├──────────────────────────────────────┼─────────────────────────────┼─────────────────┤\n",
              "│ conv2d_11 (<span style=\"color: #0087ff; text-decoration-color: #0087ff\">Conv2D</span>)                   │ (<span style=\"color: #00d7ff; text-decoration-color: #00d7ff\">None</span>, <span style=\"color: #00af00; text-decoration-color: #00af00\">61</span>, <span style=\"color: #00af00; text-decoration-color: #00af00\">61</span>, <span style=\"color: #00af00; text-decoration-color: #00af00\">64</span>)          │          <span style=\"color: #00af00; text-decoration-color: #00af00\">18,496</span> │\n",
              "├──────────────────────────────────────┼─────────────────────────────┼─────────────────┤\n",
              "│ batch_normalization_5                │ (<span style=\"color: #00d7ff; text-decoration-color: #00d7ff\">None</span>, <span style=\"color: #00af00; text-decoration-color: #00af00\">61</span>, <span style=\"color: #00af00; text-decoration-color: #00af00\">61</span>, <span style=\"color: #00af00; text-decoration-color: #00af00\">64</span>)          │             <span style=\"color: #00af00; text-decoration-color: #00af00\">256</span> │\n",
              "│ (<span style=\"color: #0087ff; text-decoration-color: #0087ff\">BatchNormalization</span>)                 │                             │                 │\n",
              "├──────────────────────────────────────┼─────────────────────────────┼─────────────────┤\n",
              "│ max_pooling2d_11 (<span style=\"color: #0087ff; text-decoration-color: #0087ff\">MaxPooling2D</span>)      │ (<span style=\"color: #00d7ff; text-decoration-color: #00d7ff\">None</span>, <span style=\"color: #00af00; text-decoration-color: #00af00\">30</span>, <span style=\"color: #00af00; text-decoration-color: #00af00\">30</span>, <span style=\"color: #00af00; text-decoration-color: #00af00\">64</span>)          │               <span style=\"color: #00af00; text-decoration-color: #00af00\">0</span> │\n",
              "├──────────────────────────────────────┼─────────────────────────────┼─────────────────┤\n",
              "│ conv2d_12 (<span style=\"color: #0087ff; text-decoration-color: #0087ff\">Conv2D</span>)                   │ (<span style=\"color: #00d7ff; text-decoration-color: #00d7ff\">None</span>, <span style=\"color: #00af00; text-decoration-color: #00af00\">28</span>, <span style=\"color: #00af00; text-decoration-color: #00af00\">28</span>, <span style=\"color: #00af00; text-decoration-color: #00af00\">128</span>)         │          <span style=\"color: #00af00; text-decoration-color: #00af00\">73,856</span> │\n",
              "├──────────────────────────────────────┼─────────────────────────────┼─────────────────┤\n",
              "│ batch_normalization_6                │ (<span style=\"color: #00d7ff; text-decoration-color: #00d7ff\">None</span>, <span style=\"color: #00af00; text-decoration-color: #00af00\">28</span>, <span style=\"color: #00af00; text-decoration-color: #00af00\">28</span>, <span style=\"color: #00af00; text-decoration-color: #00af00\">128</span>)         │             <span style=\"color: #00af00; text-decoration-color: #00af00\">512</span> │\n",
              "│ (<span style=\"color: #0087ff; text-decoration-color: #0087ff\">BatchNormalization</span>)                 │                             │                 │\n",
              "├──────────────────────────────────────┼─────────────────────────────┼─────────────────┤\n",
              "│ max_pooling2d_12 (<span style=\"color: #0087ff; text-decoration-color: #0087ff\">MaxPooling2D</span>)      │ (<span style=\"color: #00d7ff; text-decoration-color: #00d7ff\">None</span>, <span style=\"color: #00af00; text-decoration-color: #00af00\">14</span>, <span style=\"color: #00af00; text-decoration-color: #00af00\">14</span>, <span style=\"color: #00af00; text-decoration-color: #00af00\">128</span>)         │               <span style=\"color: #00af00; text-decoration-color: #00af00\">0</span> │\n",
              "├──────────────────────────────────────┼─────────────────────────────┼─────────────────┤\n",
              "│ conv2d_13 (<span style=\"color: #0087ff; text-decoration-color: #0087ff\">Conv2D</span>)                   │ (<span style=\"color: #00d7ff; text-decoration-color: #00d7ff\">None</span>, <span style=\"color: #00af00; text-decoration-color: #00af00\">12</span>, <span style=\"color: #00af00; text-decoration-color: #00af00\">12</span>, <span style=\"color: #00af00; text-decoration-color: #00af00\">256</span>)         │         <span style=\"color: #00af00; text-decoration-color: #00af00\">295,168</span> │\n",
              "├──────────────────────────────────────┼─────────────────────────────┼─────────────────┤\n",
              "│ batch_normalization_7                │ (<span style=\"color: #00d7ff; text-decoration-color: #00d7ff\">None</span>, <span style=\"color: #00af00; text-decoration-color: #00af00\">12</span>, <span style=\"color: #00af00; text-decoration-color: #00af00\">12</span>, <span style=\"color: #00af00; text-decoration-color: #00af00\">256</span>)         │           <span style=\"color: #00af00; text-decoration-color: #00af00\">1,024</span> │\n",
              "│ (<span style=\"color: #0087ff; text-decoration-color: #0087ff\">BatchNormalization</span>)                 │                             │                 │\n",
              "├──────────────────────────────────────┼─────────────────────────────┼─────────────────┤\n",
              "│ max_pooling2d_13 (<span style=\"color: #0087ff; text-decoration-color: #0087ff\">MaxPooling2D</span>)      │ (<span style=\"color: #00d7ff; text-decoration-color: #00d7ff\">None</span>, <span style=\"color: #00af00; text-decoration-color: #00af00\">6</span>, <span style=\"color: #00af00; text-decoration-color: #00af00\">6</span>, <span style=\"color: #00af00; text-decoration-color: #00af00\">256</span>)           │               <span style=\"color: #00af00; text-decoration-color: #00af00\">0</span> │\n",
              "├──────────────────────────────────────┼─────────────────────────────┼─────────────────┤\n",
              "│ flatten_3 (<span style=\"color: #0087ff; text-decoration-color: #0087ff\">Flatten</span>)                  │ (<span style=\"color: #00d7ff; text-decoration-color: #00d7ff\">None</span>, <span style=\"color: #00af00; text-decoration-color: #00af00\">9216</span>)                │               <span style=\"color: #00af00; text-decoration-color: #00af00\">0</span> │\n",
              "├──────────────────────────────────────┼─────────────────────────────┼─────────────────┤\n",
              "│ dense_6 (<span style=\"color: #0087ff; text-decoration-color: #0087ff\">Dense</span>)                      │ (<span style=\"color: #00d7ff; text-decoration-color: #00d7ff\">None</span>, <span style=\"color: #00af00; text-decoration-color: #00af00\">512</span>)                 │       <span style=\"color: #00af00; text-decoration-color: #00af00\">4,719,104</span> │\n",
              "├──────────────────────────────────────┼─────────────────────────────┼─────────────────┤\n",
              "│ dropout_3 (<span style=\"color: #0087ff; text-decoration-color: #0087ff\">Dropout</span>)                  │ (<span style=\"color: #00d7ff; text-decoration-color: #00d7ff\">None</span>, <span style=\"color: #00af00; text-decoration-color: #00af00\">512</span>)                 │               <span style=\"color: #00af00; text-decoration-color: #00af00\">0</span> │\n",
              "├──────────────────────────────────────┼─────────────────────────────┼─────────────────┤\n",
              "│ dense_7 (<span style=\"color: #0087ff; text-decoration-color: #0087ff\">Dense</span>)                      │ (<span style=\"color: #00d7ff; text-decoration-color: #00d7ff\">None</span>, <span style=\"color: #00af00; text-decoration-color: #00af00\">1</span>)                   │             <span style=\"color: #00af00; text-decoration-color: #00af00\">513</span> │\n",
              "└──────────────────────────────────────┴─────────────────────────────┴─────────────────┘\n",
              "</pre>\n"
            ]
          },
          "metadata": {}
        },
        {
          "output_type": "display_data",
          "data": {
            "text/plain": [
              "\u001b[1m Total params: \u001b[0m\u001b[38;5;34m5,109,953\u001b[0m (19.49 MB)\n"
            ],
            "text/html": [
              "<pre style=\"white-space:pre;overflow-x:auto;line-height:normal;font-family:Menlo,'DejaVu Sans Mono',consolas,'Courier New',monospace\"><span style=\"font-weight: bold\"> Total params: </span><span style=\"color: #00af00; text-decoration-color: #00af00\">5,109,953</span> (19.49 MB)\n",
              "</pre>\n"
            ]
          },
          "metadata": {}
        },
        {
          "output_type": "display_data",
          "data": {
            "text/plain": [
              "\u001b[1m Trainable params: \u001b[0m\u001b[38;5;34m5,108,993\u001b[0m (19.49 MB)\n"
            ],
            "text/html": [
              "<pre style=\"white-space:pre;overflow-x:auto;line-height:normal;font-family:Menlo,'DejaVu Sans Mono',consolas,'Courier New',monospace\"><span style=\"font-weight: bold\"> Trainable params: </span><span style=\"color: #00af00; text-decoration-color: #00af00\">5,108,993</span> (19.49 MB)\n",
              "</pre>\n"
            ]
          },
          "metadata": {}
        },
        {
          "output_type": "display_data",
          "data": {
            "text/plain": [
              "\u001b[1m Non-trainable params: \u001b[0m\u001b[38;5;34m960\u001b[0m (3.75 KB)\n"
            ],
            "text/html": [
              "<pre style=\"white-space:pre;overflow-x:auto;line-height:normal;font-family:Menlo,'DejaVu Sans Mono',consolas,'Courier New',monospace\"><span style=\"font-weight: bold\"> Non-trainable params: </span><span style=\"color: #00af00; text-decoration-color: #00af00\">960</span> (3.75 KB)\n",
              "</pre>\n"
            ]
          },
          "metadata": {}
        }
      ]
    },
    {
      "cell_type": "code",
      "source": [
        "history = model.fit(\n",
        "    train_generator,\n",
        "    epochs=20,  # Training for 20 epochs\n",
        "    validation_data=val_generator\n",
        ")\n"
      ],
      "metadata": {
        "collapsed": true,
        "colab": {
          "base_uri": "https://localhost:8080/"
        },
        "id": "5Z8CcOfxR6og",
        "outputId": "8ec6580e-0cc5-46f5-9aec-1f2f17855ec4"
      },
      "execution_count": 72,
      "outputs": [
        {
          "output_type": "stream",
          "name": "stdout",
          "text": [
            "Epoch 1/20\n",
            "\u001b[1m64/64\u001b[0m \u001b[32m━━━━━━━━━━━━━━━━━━━━\u001b[0m\u001b[37m\u001b[0m \u001b[1m202s\u001b[0m 3s/step - accuracy: 0.7180 - loss: 1.0043 - val_accuracy: 0.1999 - val_loss: 1.5572\n",
            "Epoch 2/20\n",
            "\u001b[1m64/64\u001b[0m \u001b[32m━━━━━━━━━━━━━━━━━━━━\u001b[0m\u001b[37m\u001b[0m \u001b[1m203s\u001b[0m 3s/step - accuracy: 0.7576 - loss: 0.6239 - val_accuracy: 0.1999 - val_loss: 1.6219\n",
            "Epoch 3/20\n",
            "\u001b[1m64/64\u001b[0m \u001b[32m━━━━━━━━━━━━━━━━━━━━\u001b[0m\u001b[37m\u001b[0m \u001b[1m194s\u001b[0m 3s/step - accuracy: 0.7510 - loss: 0.5934 - val_accuracy: 0.1999 - val_loss: 2.2458\n",
            "Epoch 4/20\n",
            "\u001b[1m64/64\u001b[0m \u001b[32m━━━━━━━━━━━━━━━━━━━━\u001b[0m\u001b[37m\u001b[0m \u001b[1m230s\u001b[0m 4s/step - accuracy: 0.7781 - loss: 0.5627 - val_accuracy: 0.3880 - val_loss: 0.8037\n",
            "Epoch 5/20\n",
            "\u001b[1m64/64\u001b[0m \u001b[32m━━━━━━━━━━━━━━━━━━━━\u001b[0m\u001b[37m\u001b[0m \u001b[1m196s\u001b[0m 3s/step - accuracy: 0.7800 - loss: 0.5561 - val_accuracy: 0.5223 - val_loss: 0.7050\n",
            "Epoch 6/20\n",
            "\u001b[1m64/64\u001b[0m \u001b[32m━━━━━━━━━━━━━━━━━━━━\u001b[0m\u001b[37m\u001b[0m \u001b[1m193s\u001b[0m 3s/step - accuracy: 0.8000 - loss: 0.5237 - val_accuracy: 0.7780 - val_loss: 0.5333\n",
            "Epoch 7/20\n",
            "\u001b[1m64/64\u001b[0m \u001b[32m━━━━━━━━━━━━━━━━━━━━\u001b[0m\u001b[37m\u001b[0m \u001b[1m195s\u001b[0m 3s/step - accuracy: 0.7966 - loss: 0.5212 - val_accuracy: 0.7981 - val_loss: 0.5180\n",
            "Epoch 8/20\n",
            "\u001b[1m64/64\u001b[0m \u001b[32m━━━━━━━━━━━━━━━━━━━━\u001b[0m\u001b[37m\u001b[0m \u001b[1m228s\u001b[0m 4s/step - accuracy: 0.7937 - loss: 0.5337 - val_accuracy: 0.8001 - val_loss: 0.5043\n",
            "Epoch 9/20\n",
            "\u001b[1m64/64\u001b[0m \u001b[32m━━━━━━━━━━━━━━━━━━━━\u001b[0m\u001b[37m\u001b[0m \u001b[1m205s\u001b[0m 3s/step - accuracy: 0.8090 - loss: 0.5045 - val_accuracy: 0.7991 - val_loss: 0.4999\n",
            "Epoch 10/20\n",
            "\u001b[1m64/64\u001b[0m \u001b[32m━━━━━━━━━━━━━━━━━━━━\u001b[0m\u001b[37m\u001b[0m \u001b[1m196s\u001b[0m 3s/step - accuracy: 0.8061 - loss: 0.5068 - val_accuracy: 0.8001 - val_loss: 0.4993\n",
            "Epoch 11/20\n",
            "\u001b[1m64/64\u001b[0m \u001b[32m━━━━━━━━━━━━━━━━━━━━\u001b[0m\u001b[37m\u001b[0m \u001b[1m197s\u001b[0m 3s/step - accuracy: 0.7959 - loss: 0.5170 - val_accuracy: 0.8001 - val_loss: 0.4895\n",
            "Epoch 12/20\n",
            "\u001b[1m64/64\u001b[0m \u001b[32m━━━━━━━━━━━━━━━━━━━━\u001b[0m\u001b[37m\u001b[0m \u001b[1m197s\u001b[0m 3s/step - accuracy: 0.8035 - loss: 0.4987 - val_accuracy: 0.8001 - val_loss: 0.4948\n",
            "Epoch 13/20\n",
            "\u001b[1m64/64\u001b[0m \u001b[32m━━━━━━━━━━━━━━━━━━━━\u001b[0m\u001b[37m\u001b[0m \u001b[1m233s\u001b[0m 4s/step - accuracy: 0.7964 - loss: 0.5140 - val_accuracy: 0.8006 - val_loss: 0.5025\n",
            "Epoch 14/20\n",
            "\u001b[1m64/64\u001b[0m \u001b[32m━━━━━━━━━━━━━━━━━━━━\u001b[0m\u001b[37m\u001b[0m \u001b[1m196s\u001b[0m 3s/step - accuracy: 0.8129 - loss: 0.4977 - val_accuracy: 0.8001 - val_loss: 0.4914\n",
            "Epoch 15/20\n",
            "\u001b[1m64/64\u001b[0m \u001b[32m━━━━━━━━━━━━━━━━━━━━\u001b[0m\u001b[37m\u001b[0m \u001b[1m229s\u001b[0m 4s/step - accuracy: 0.8011 - loss: 0.5078 - val_accuracy: 0.8006 - val_loss: 0.4946\n",
            "Epoch 16/20\n",
            "\u001b[1m64/64\u001b[0m \u001b[32m━━━━━━━━━━━━━━━━━━━━\u001b[0m\u001b[37m\u001b[0m \u001b[1m197s\u001b[0m 3s/step - accuracy: 0.7871 - loss: 0.5318 - val_accuracy: 0.8001 - val_loss: 0.4921\n",
            "Epoch 17/20\n",
            "\u001b[1m64/64\u001b[0m \u001b[32m━━━━━━━━━━━━━━━━━━━━\u001b[0m\u001b[37m\u001b[0m \u001b[1m229s\u001b[0m 4s/step - accuracy: 0.7906 - loss: 0.5095 - val_accuracy: 0.8006 - val_loss: 0.4937\n",
            "Epoch 18/20\n",
            "\u001b[1m64/64\u001b[0m \u001b[32m━━━━━━━━━━━━━━━━━━━━\u001b[0m\u001b[37m\u001b[0m \u001b[1m196s\u001b[0m 3s/step - accuracy: 0.7868 - loss: 0.5199 - val_accuracy: 0.8001 - val_loss: 0.5040\n",
            "Epoch 19/20\n",
            "\u001b[1m64/64\u001b[0m \u001b[32m━━━━━━━━━━━━━━━━━━━━\u001b[0m\u001b[37m\u001b[0m \u001b[1m228s\u001b[0m 4s/step - accuracy: 0.7839 - loss: 0.5249 - val_accuracy: 0.8001 - val_loss: 0.4979\n",
            "Epoch 20/20\n",
            "\u001b[1m64/64\u001b[0m \u001b[32m━━━━━━━━━━━━━━━━━━━━\u001b[0m\u001b[37m\u001b[0m \u001b[1m196s\u001b[0m 3s/step - accuracy: 0.7965 - loss: 0.5196 - val_accuracy: 0.8001 - val_loss: 0.4900\n"
          ]
        }
      ]
    },
    {
      "cell_type": "code",
      "source": [],
      "metadata": {
        "id": "bOOeQlJaSA9e"
      },
      "execution_count": null,
      "outputs": []
    }
  ]
}